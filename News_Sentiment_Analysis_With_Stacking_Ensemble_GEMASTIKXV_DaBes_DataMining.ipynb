{
  "cells": [
    {
      "cell_type": "markdown",
      "metadata": {
        "id": "view-in-github",
        "colab_type": "text"
      },
      "source": [
        "<a href=\"https://colab.research.google.com/github/mhyubr/News_Sentiment_Analysis_With_Stacking_Ensemble-FINAL-GEMASTIK_XV_2022/blob/main/News_Sentiment_Analysis_With_Stacking_Ensemble_GEMASTIKXV_DaBes_DataMining.ipynb\" target=\"_parent\"><img src=\"https://colab.research.google.com/assets/colab-badge.svg\" alt=\"Open In Colab\"/></a>"
      ]
    },
    {
      "cell_type": "code",
      "execution_count": null,
      "id": "5381298d",
      "metadata": {
        "id": "5381298d",
        "outputId": "44670e71-7e0d-4bbd-8aab-fa94fbc61e4f"
      },
      "outputs": [
        {
          "name": "stderr",
          "output_type": "stream",
          "text": [
            "C:\\ProgramData\\Anaconda3\\envs\\EnvTensorFlow\\lib\\site-packages\\tqdm\\auto.py:22: TqdmWarning: IProgress not found. Please update jupyter and ipywidgets. See https://ipywidgets.readthedocs.io/en/stable/user_install.html\n",
            "  from .autonotebook import tqdm as notebook_tqdm\n"
          ]
        }
      ],
      "source": [
        "import pandas as pd\n",
        "import pandas as pd\n",
        "import numpy as np\n",
        "import matplotlib.pyplot as plt\n",
        "import seaborn as sns\n",
        "import torch\n",
        "import torch.nn as nn\n",
        "import random"
      ]
    },
    {
      "cell_type": "code",
      "execution_count": null,
      "id": "250137e9",
      "metadata": {
        "id": "250137e9"
      },
      "outputs": [],
      "source": [
        "df = pd.read_csv('train.csv')"
      ]
    },
    {
      "cell_type": "code",
      "execution_count": null,
      "id": "a481a81b",
      "metadata": {
        "id": "a481a81b"
      },
      "outputs": [],
      "source": [
        "from sklearn.model_selection import train_test_split\n",
        "\n",
        "not_features = ['id', 'sentimen_berita']\n",
        "date_cols = ['tanggal']\n",
        "cat_cols = [col for col in df.columns if df[col].nunique() < 52]\n",
        "text_cols = [col for col in df.columns if col not in not_features + date_cols + cat_cols]\n",
        "\n",
        "high_card = [col for col in cat_cols if df[col].nunique() > 5]\n",
        "low_card = [col for col in cat_cols if df[col].nunique() <= 5 and col not in not_features]\n",
        "\n",
        "X = df[cat_cols + text_cols]\n",
        "y = df['sentimen_berita'].map({'Negatif':0, 'Netral':1, 'Positif':2})\n",
        "\n",
        "X_train, X_val, y_train, y_val = train_test_split(X, y, shuffle=True, test_size=0.2, random_state=42, stratify=y)"
      ]
    },
    {
      "cell_type": "code",
      "execution_count": null,
      "id": "d8a3cce2",
      "metadata": {
        "id": "d8a3cce2",
        "outputId": "aeab33ab-1811-42ad-ba80-59e44214e834"
      },
      "outputs": [
        {
          "name": "stdout",
          "output_type": "stream",
          "text": [
            "['sumber', 'sentimen_kutipan']\n"
          ]
        }
      ],
      "source": [
        "print(low_card)"
      ]
    },
    {
      "cell_type": "code",
      "execution_count": null,
      "id": "125a2921",
      "metadata": {
        "id": "125a2921",
        "outputId": "5cc2aeb0-7a76-43d0-9b27-c9fb6f4eca5c"
      },
      "outputs": [
        {
          "data": {
            "text/plain": [
              "41458    2\n",
              "15305    1\n",
              "31977    2\n",
              "50387    2\n",
              "27652    2\n",
              "Name: sentimen_berita, dtype: int64"
            ]
          },
          "execution_count": 5,
          "metadata": {},
          "output_type": "execute_result"
        }
      ],
      "source": [
        "y_val.head()"
      ]
    },
    {
      "cell_type": "code",
      "execution_count": null,
      "id": "846304ae",
      "metadata": {
        "id": "846304ae",
        "outputId": "d5bef5a5-fe0a-40d4-acea-bac7602ed3c4"
      },
      "outputs": [
        {
          "data": {
            "text/plain": [
              "(42311, 16)"
            ]
          },
          "execution_count": 6,
          "metadata": {},
          "output_type": "execute_result"
        }
      ],
      "source": [
        "X_train.shape"
      ]
    },
    {
      "cell_type": "code",
      "execution_count": null,
      "id": "69b20713",
      "metadata": {
        "id": "69b20713",
        "outputId": "306ccd27-0656-4912-e0e5-7d53b397bf57"
      },
      "outputs": [
        {
          "data": {
            "text/html": [
              "<style>#sk-285899aa-e12d-4a8e-80fd-cc1dc5b39220 {color: black;background-color: white;}#sk-285899aa-e12d-4a8e-80fd-cc1dc5b39220 pre{padding: 0;}#sk-285899aa-e12d-4a8e-80fd-cc1dc5b39220 div.sk-toggleable {background-color: white;}#sk-285899aa-e12d-4a8e-80fd-cc1dc5b39220 label.sk-toggleable__label {cursor: pointer;display: block;width: 100%;margin-bottom: 0;padding: 0.3em;box-sizing: border-box;text-align: center;}#sk-285899aa-e12d-4a8e-80fd-cc1dc5b39220 label.sk-toggleable__label-arrow:before {content: \"▸\";float: left;margin-right: 0.25em;color: #696969;}#sk-285899aa-e12d-4a8e-80fd-cc1dc5b39220 label.sk-toggleable__label-arrow:hover:before {color: black;}#sk-285899aa-e12d-4a8e-80fd-cc1dc5b39220 div.sk-estimator:hover label.sk-toggleable__label-arrow:before {color: black;}#sk-285899aa-e12d-4a8e-80fd-cc1dc5b39220 div.sk-toggleable__content {max-height: 0;max-width: 0;overflow: hidden;text-align: left;background-color: #f0f8ff;}#sk-285899aa-e12d-4a8e-80fd-cc1dc5b39220 div.sk-toggleable__content pre {margin: 0.2em;color: black;border-radius: 0.25em;background-color: #f0f8ff;}#sk-285899aa-e12d-4a8e-80fd-cc1dc5b39220 input.sk-toggleable__control:checked~div.sk-toggleable__content {max-height: 200px;max-width: 100%;overflow: auto;}#sk-285899aa-e12d-4a8e-80fd-cc1dc5b39220 input.sk-toggleable__control:checked~label.sk-toggleable__label-arrow:before {content: \"▾\";}#sk-285899aa-e12d-4a8e-80fd-cc1dc5b39220 div.sk-estimator input.sk-toggleable__control:checked~label.sk-toggleable__label {background-color: #d4ebff;}#sk-285899aa-e12d-4a8e-80fd-cc1dc5b39220 div.sk-label input.sk-toggleable__control:checked~label.sk-toggleable__label {background-color: #d4ebff;}#sk-285899aa-e12d-4a8e-80fd-cc1dc5b39220 input.sk-hidden--visually {border: 0;clip: rect(1px 1px 1px 1px);clip: rect(1px, 1px, 1px, 1px);height: 1px;margin: -1px;overflow: hidden;padding: 0;position: absolute;width: 1px;}#sk-285899aa-e12d-4a8e-80fd-cc1dc5b39220 div.sk-estimator {font-family: monospace;background-color: #f0f8ff;border: 1px dotted black;border-radius: 0.25em;box-sizing: border-box;margin-bottom: 0.5em;}#sk-285899aa-e12d-4a8e-80fd-cc1dc5b39220 div.sk-estimator:hover {background-color: #d4ebff;}#sk-285899aa-e12d-4a8e-80fd-cc1dc5b39220 div.sk-parallel-item::after {content: \"\";width: 100%;border-bottom: 1px solid gray;flex-grow: 1;}#sk-285899aa-e12d-4a8e-80fd-cc1dc5b39220 div.sk-label:hover label.sk-toggleable__label {background-color: #d4ebff;}#sk-285899aa-e12d-4a8e-80fd-cc1dc5b39220 div.sk-serial::before {content: \"\";position: absolute;border-left: 1px solid gray;box-sizing: border-box;top: 2em;bottom: 0;left: 50%;}#sk-285899aa-e12d-4a8e-80fd-cc1dc5b39220 div.sk-serial {display: flex;flex-direction: column;align-items: center;background-color: white;padding-right: 0.2em;padding-left: 0.2em;}#sk-285899aa-e12d-4a8e-80fd-cc1dc5b39220 div.sk-item {z-index: 1;}#sk-285899aa-e12d-4a8e-80fd-cc1dc5b39220 div.sk-parallel {display: flex;align-items: stretch;justify-content: center;background-color: white;}#sk-285899aa-e12d-4a8e-80fd-cc1dc5b39220 div.sk-parallel::before {content: \"\";position: absolute;border-left: 1px solid gray;box-sizing: border-box;top: 2em;bottom: 0;left: 50%;}#sk-285899aa-e12d-4a8e-80fd-cc1dc5b39220 div.sk-parallel-item {display: flex;flex-direction: column;position: relative;background-color: white;}#sk-285899aa-e12d-4a8e-80fd-cc1dc5b39220 div.sk-parallel-item:first-child::after {align-self: flex-end;width: 50%;}#sk-285899aa-e12d-4a8e-80fd-cc1dc5b39220 div.sk-parallel-item:last-child::after {align-self: flex-start;width: 50%;}#sk-285899aa-e12d-4a8e-80fd-cc1dc5b39220 div.sk-parallel-item:only-child::after {width: 0;}#sk-285899aa-e12d-4a8e-80fd-cc1dc5b39220 div.sk-dashed-wrapped {border: 1px dashed gray;margin: 0 0.4em 0.5em 0.4em;box-sizing: border-box;padding-bottom: 0.4em;background-color: white;position: relative;}#sk-285899aa-e12d-4a8e-80fd-cc1dc5b39220 div.sk-label label {font-family: monospace;font-weight: bold;background-color: white;display: inline-block;line-height: 1.2em;}#sk-285899aa-e12d-4a8e-80fd-cc1dc5b39220 div.sk-label-container {position: relative;z-index: 2;text-align: center;}#sk-285899aa-e12d-4a8e-80fd-cc1dc5b39220 div.sk-container {/* jupyter's `normalize.less` sets `[hidden] { display: none; }` but bootstrap.min.css set `[hidden] { display: none !important; }` so we also need the `!important` here to be able to override the default hidden behavior on the sphinx rendered scikit-learn.org. See: https://github.com/scikit-learn/scikit-learn/issues/21755 */display: inline-block !important;position: relative;}#sk-285899aa-e12d-4a8e-80fd-cc1dc5b39220 div.sk-text-repr-fallback {display: none;}</style><div id=\"sk-285899aa-e12d-4a8e-80fd-cc1dc5b39220\" class=\"sk-top-container\"><div class=\"sk-text-repr-fallback\"><pre>Pipeline(steps=[(&#x27;preprocess&#x27;,\n",
              "                 ColumnTransformer(transformers=[(&#x27;high_cardinality&#x27;,\n",
              "                                                  Pipeline(steps=[(&#x27;ordinal_encoder&#x27;,\n",
              "                                                                   OrdinalEncoder())]),\n",
              "                                                  [&#x27;kodekat&#x27;, &#x27;kodesubkat&#x27;,\n",
              "                                                   &#x27;kategori&#x27;, &#x27;subkategori&#x27;]),\n",
              "                                                 (&#x27;low_cardinality&#x27;,\n",
              "                                                  Pipeline(steps=[(&#x27;oh_encoder&#x27;,\n",
              "                                                                   OneHotEncoder())]),\n",
              "                                                  [&#x27;sumber&#x27;,\n",
              "                                                   &#x27;sentimen_kutipan&#x27;])])),\n",
              "                (&#x27;regressor&#x27;,\n",
              "                 XGBClassifier(alpha=0.37923490995294745, base_sc...\n",
              "                               lambda=0.008103395718032142,\n",
              "                               learning_rate=0.065733165999498,\n",
              "                               max_delta_step=None, max_depth=8,\n",
              "                               min_child_weight=19, missing=nan,\n",
              "                               monotone_constraints=None, n_estimators=500,\n",
              "                               n_jobs=None, num_parallel_tree=None,\n",
              "                               predictor=None, random_state=420, reg_alpha=None,\n",
              "                               reg_lambda=None, scale_pos_weight=None,\n",
              "                               subsample=1.0, tree_method=&#x27;hist&#x27;,\n",
              "                               use_label_encoder=False,\n",
              "                               validate_parameters=None, ...))])</pre><b>Please rerun this cell to show the HTML repr or trust the notebook.</b></div><div class=\"sk-container\" hidden><div class=\"sk-item sk-dashed-wrapped\"><div class=\"sk-label-container\"><div class=\"sk-label sk-toggleable\"><input class=\"sk-toggleable__control sk-hidden--visually\" id=\"0ac54333-9077-4681-adf0-3f3497af1f17\" type=\"checkbox\" ><label for=\"0ac54333-9077-4681-adf0-3f3497af1f17\" class=\"sk-toggleable__label sk-toggleable__label-arrow\">Pipeline</label><div class=\"sk-toggleable__content\"><pre>Pipeline(steps=[(&#x27;preprocess&#x27;,\n",
              "                 ColumnTransformer(transformers=[(&#x27;high_cardinality&#x27;,\n",
              "                                                  Pipeline(steps=[(&#x27;ordinal_encoder&#x27;,\n",
              "                                                                   OrdinalEncoder())]),\n",
              "                                                  [&#x27;kodekat&#x27;, &#x27;kodesubkat&#x27;,\n",
              "                                                   &#x27;kategori&#x27;, &#x27;subkategori&#x27;]),\n",
              "                                                 (&#x27;low_cardinality&#x27;,\n",
              "                                                  Pipeline(steps=[(&#x27;oh_encoder&#x27;,\n",
              "                                                                   OneHotEncoder())]),\n",
              "                                                  [&#x27;sumber&#x27;,\n",
              "                                                   &#x27;sentimen_kutipan&#x27;])])),\n",
              "                (&#x27;regressor&#x27;,\n",
              "                 XGBClassifier(alpha=0.37923490995294745, base_sc...\n",
              "                               lambda=0.008103395718032142,\n",
              "                               learning_rate=0.065733165999498,\n",
              "                               max_delta_step=None, max_depth=8,\n",
              "                               min_child_weight=19, missing=nan,\n",
              "                               monotone_constraints=None, n_estimators=500,\n",
              "                               n_jobs=None, num_parallel_tree=None,\n",
              "                               predictor=None, random_state=420, reg_alpha=None,\n",
              "                               reg_lambda=None, scale_pos_weight=None,\n",
              "                               subsample=1.0, tree_method=&#x27;hist&#x27;,\n",
              "                               use_label_encoder=False,\n",
              "                               validate_parameters=None, ...))])</pre></div></div></div><div class=\"sk-serial\"><div class=\"sk-item sk-dashed-wrapped\"><div class=\"sk-label-container\"><div class=\"sk-label sk-toggleable\"><input class=\"sk-toggleable__control sk-hidden--visually\" id=\"9c195c17-5c1c-4dd2-aea0-960187d1a2c9\" type=\"checkbox\" ><label for=\"9c195c17-5c1c-4dd2-aea0-960187d1a2c9\" class=\"sk-toggleable__label sk-toggleable__label-arrow\">preprocess: ColumnTransformer</label><div class=\"sk-toggleable__content\"><pre>ColumnTransformer(transformers=[(&#x27;high_cardinality&#x27;,\n",
              "                                 Pipeline(steps=[(&#x27;ordinal_encoder&#x27;,\n",
              "                                                  OrdinalEncoder())]),\n",
              "                                 [&#x27;kodekat&#x27;, &#x27;kodesubkat&#x27;, &#x27;kategori&#x27;,\n",
              "                                  &#x27;subkategori&#x27;]),\n",
              "                                (&#x27;low_cardinality&#x27;,\n",
              "                                 Pipeline(steps=[(&#x27;oh_encoder&#x27;,\n",
              "                                                  OneHotEncoder())]),\n",
              "                                 [&#x27;sumber&#x27;, &#x27;sentimen_kutipan&#x27;])])</pre></div></div></div><div class=\"sk-parallel\"><div class=\"sk-parallel-item\"><div class=\"sk-item\"><div class=\"sk-label-container\"><div class=\"sk-label sk-toggleable\"><input class=\"sk-toggleable__control sk-hidden--visually\" id=\"ac1cda74-2bde-4ead-9038-4c72bfae0898\" type=\"checkbox\" ><label for=\"ac1cda74-2bde-4ead-9038-4c72bfae0898\" class=\"sk-toggleable__label sk-toggleable__label-arrow\">high_cardinality</label><div class=\"sk-toggleable__content\"><pre>[&#x27;kodekat&#x27;, &#x27;kodesubkat&#x27;, &#x27;kategori&#x27;, &#x27;subkategori&#x27;]</pre></div></div></div><div class=\"sk-serial\"><div class=\"sk-item\"><div class=\"sk-serial\"><div class=\"sk-item\"><div class=\"sk-estimator sk-toggleable\"><input class=\"sk-toggleable__control sk-hidden--visually\" id=\"62c80da1-dc84-4aa1-9cb7-e7a45ca3f2c2\" type=\"checkbox\" ><label for=\"62c80da1-dc84-4aa1-9cb7-e7a45ca3f2c2\" class=\"sk-toggleable__label sk-toggleable__label-arrow\">OrdinalEncoder</label><div class=\"sk-toggleable__content\"><pre>OrdinalEncoder()</pre></div></div></div></div></div></div></div></div><div class=\"sk-parallel-item\"><div class=\"sk-item\"><div class=\"sk-label-container\"><div class=\"sk-label sk-toggleable\"><input class=\"sk-toggleable__control sk-hidden--visually\" id=\"1ab942b1-32c8-4a6e-8931-220652cf2307\" type=\"checkbox\" ><label for=\"1ab942b1-32c8-4a6e-8931-220652cf2307\" class=\"sk-toggleable__label sk-toggleable__label-arrow\">low_cardinality</label><div class=\"sk-toggleable__content\"><pre>[&#x27;sumber&#x27;, &#x27;sentimen_kutipan&#x27;]</pre></div></div></div><div class=\"sk-serial\"><div class=\"sk-item\"><div class=\"sk-serial\"><div class=\"sk-item\"><div class=\"sk-estimator sk-toggleable\"><input class=\"sk-toggleable__control sk-hidden--visually\" id=\"904840de-d9a1-4e09-b0b6-c07e9050e1a3\" type=\"checkbox\" ><label for=\"904840de-d9a1-4e09-b0b6-c07e9050e1a3\" class=\"sk-toggleable__label sk-toggleable__label-arrow\">OneHotEncoder</label><div class=\"sk-toggleable__content\"><pre>OneHotEncoder()</pre></div></div></div></div></div></div></div></div></div></div><div class=\"sk-item\"><div class=\"sk-estimator sk-toggleable\"><input class=\"sk-toggleable__control sk-hidden--visually\" id=\"ac08f909-6286-4f61-ba7b-58c8259ed44b\" type=\"checkbox\" ><label for=\"ac08f909-6286-4f61-ba7b-58c8259ed44b\" class=\"sk-toggleable__label sk-toggleable__label-arrow\">XGBClassifier</label><div class=\"sk-toggleable__content\"><pre>XGBClassifier(alpha=0.37923490995294745, base_score=None, booster=None,\n",
              "              colsample_bylevel=None, colsample_bynode=None,\n",
              "              colsample_bytree=0.5, enable_categorical=False, gamma=None,\n",
              "              gpu_id=None, importance_type=None, interaction_constraints=None,\n",
              "              lambda=0.008103395718032142, learning_rate=0.065733165999498,\n",
              "              max_delta_step=None, max_depth=8, min_child_weight=19,\n",
              "              missing=nan, monotone_constraints=None, n_estimators=500,\n",
              "              n_jobs=None, num_parallel_tree=None, predictor=None,\n",
              "              random_state=420, reg_alpha=None, reg_lambda=None,\n",
              "              scale_pos_weight=None, subsample=1.0, tree_method=&#x27;hist&#x27;,\n",
              "              use_label_encoder=False, validate_parameters=None, ...)</pre></div></div></div></div></div></div></div>"
            ],
            "text/plain": [
              "Pipeline(steps=[('preprocess',\n",
              "                 ColumnTransformer(transformers=[('high_cardinality',\n",
              "                                                  Pipeline(steps=[('ordinal_encoder',\n",
              "                                                                   OrdinalEncoder())]),\n",
              "                                                  ['kodekat', 'kodesubkat',\n",
              "                                                   'kategori', 'subkategori']),\n",
              "                                                 ('low_cardinality',\n",
              "                                                  Pipeline(steps=[('oh_encoder',\n",
              "                                                                   OneHotEncoder())]),\n",
              "                                                  ['sumber',\n",
              "                                                   'sentimen_kutipan'])])),\n",
              "                ('regressor',\n",
              "                 XGBClassifier(alpha=0.37923490995294745, base_sc...\n",
              "                               lambda=0.008103395718032142,\n",
              "                               learning_rate=0.065733165999498,\n",
              "                               max_delta_step=None, max_depth=8,\n",
              "                               min_child_weight=19, missing=nan,\n",
              "                               monotone_constraints=None, n_estimators=500,\n",
              "                               n_jobs=None, num_parallel_tree=None,\n",
              "                               predictor=None, random_state=420, reg_alpha=None,\n",
              "                               reg_lambda=None, scale_pos_weight=None,\n",
              "                               subsample=1.0, tree_method='hist',\n",
              "                               use_label_encoder=False,\n",
              "                               validate_parameters=None, ...))])"
            ]
          },
          "execution_count": 7,
          "metadata": {},
          "output_type": "execute_result"
        }
      ],
      "source": [
        "#make model\n",
        "from xgboost import XGBClassifier\n",
        "from xgboost import plot_importance\n",
        "from sklearn import set_config\n",
        "from sklearn.metrics import mean_squared_error, r2_score\n",
        "from sklearn.model_selection import cross_val_score\n",
        "from sklearn.model_selection import KFold, RepeatedKFold\n",
        "from sklearn.pipeline import Pipeline\n",
        "from sklearn.preprocessing import OneHotEncoder, OrdinalEncoder\n",
        "\n",
        "from sklearn.compose import ColumnTransformer\n",
        "from sklearn.preprocessing import StandardScaler, RobustScaler, MinMaxScaler\n",
        "\n",
        "\n",
        "set_config(display='diagram')\n",
        "\n",
        "oh_encoder = OneHotEncoder()\n",
        "ordinal_encoder = OrdinalEncoder()\n",
        "\n",
        "high_card_preprocessor = Pipeline(steps=[\n",
        "        (\"ordinal_encoder\", ordinal_encoder),])\n",
        "\n",
        "low_card_preprocessor = Pipeline(steps=[\n",
        "        (\"oh_encoder\", oh_encoder),])\n",
        "\n",
        "preprocessor = ColumnTransformer([\n",
        "        (\"high_cardinality\", high_card_preprocessor, high_card),\n",
        "        (\"low_cardinality\", low_card_preprocessor, low_card),])\n",
        "\n",
        "xgb_params = {\n",
        "    'tree_method' : 'hist',\n",
        "    'learning_rate': 0.065733165999498,\n",
        "    'n_estimators': 500,\n",
        "    'max_depth': 8,\n",
        "    'lambda': 0.008103395718032142,\n",
        "    'alpha': 0.37923490995294745,\n",
        "    'colsample_bytree': 0.5,\n",
        "    'min_child_weight': 19,\n",
        "    'subsample': 1.0,\n",
        "    'random_state' : 420,\n",
        "    'use_label_encoder':False}\n",
        "\n",
        "xgb = XGBClassifier(**xgb_params)\n",
        "\n",
        "xgb_steps = [('preprocess', preprocessor),\n",
        "             ('regressor', xgb),]\n",
        "\n",
        "xgb_pipeline = Pipeline(xgb_steps)\n",
        "xgb_pipeline"
      ]
    },
    {
      "cell_type": "code",
      "execution_count": null,
      "id": "bfa68efc",
      "metadata": {
        "id": "bfa68efc",
        "outputId": "a8571adf-3ae6-44fd-c6fe-dd6e0dde5236"
      },
      "outputs": [
        {
          "name": "stdout",
          "output_type": "stream",
          "text": [
            "[17:24:40] WARNING: C:\\Windows\\Temp\\abs_557yfx631l\\croots\\recipe\\xgboost-split_1659548953302\\work\\src\\learner.cc:1115: Starting in XGBoost 1.3.0, the default evaluation metric used with the objective 'multi:softprob' was changed from 'merror' to 'mlogloss'. Explicitly set eval_metric if you'd like to restore the old behavior.\n"
          ]
        },
        {
          "data": {
            "text/html": [
              "<style>#sk-600f1ef1-7a5f-4728-abb7-74e435624b5b {color: black;background-color: white;}#sk-600f1ef1-7a5f-4728-abb7-74e435624b5b pre{padding: 0;}#sk-600f1ef1-7a5f-4728-abb7-74e435624b5b div.sk-toggleable {background-color: white;}#sk-600f1ef1-7a5f-4728-abb7-74e435624b5b label.sk-toggleable__label {cursor: pointer;display: block;width: 100%;margin-bottom: 0;padding: 0.3em;box-sizing: border-box;text-align: center;}#sk-600f1ef1-7a5f-4728-abb7-74e435624b5b label.sk-toggleable__label-arrow:before {content: \"▸\";float: left;margin-right: 0.25em;color: #696969;}#sk-600f1ef1-7a5f-4728-abb7-74e435624b5b label.sk-toggleable__label-arrow:hover:before {color: black;}#sk-600f1ef1-7a5f-4728-abb7-74e435624b5b div.sk-estimator:hover label.sk-toggleable__label-arrow:before {color: black;}#sk-600f1ef1-7a5f-4728-abb7-74e435624b5b div.sk-toggleable__content {max-height: 0;max-width: 0;overflow: hidden;text-align: left;background-color: #f0f8ff;}#sk-600f1ef1-7a5f-4728-abb7-74e435624b5b div.sk-toggleable__content pre {margin: 0.2em;color: black;border-radius: 0.25em;background-color: #f0f8ff;}#sk-600f1ef1-7a5f-4728-abb7-74e435624b5b input.sk-toggleable__control:checked~div.sk-toggleable__content {max-height: 200px;max-width: 100%;overflow: auto;}#sk-600f1ef1-7a5f-4728-abb7-74e435624b5b input.sk-toggleable__control:checked~label.sk-toggleable__label-arrow:before {content: \"▾\";}#sk-600f1ef1-7a5f-4728-abb7-74e435624b5b div.sk-estimator input.sk-toggleable__control:checked~label.sk-toggleable__label {background-color: #d4ebff;}#sk-600f1ef1-7a5f-4728-abb7-74e435624b5b div.sk-label input.sk-toggleable__control:checked~label.sk-toggleable__label {background-color: #d4ebff;}#sk-600f1ef1-7a5f-4728-abb7-74e435624b5b input.sk-hidden--visually {border: 0;clip: rect(1px 1px 1px 1px);clip: rect(1px, 1px, 1px, 1px);height: 1px;margin: -1px;overflow: hidden;padding: 0;position: absolute;width: 1px;}#sk-600f1ef1-7a5f-4728-abb7-74e435624b5b div.sk-estimator {font-family: monospace;background-color: #f0f8ff;border: 1px dotted black;border-radius: 0.25em;box-sizing: border-box;margin-bottom: 0.5em;}#sk-600f1ef1-7a5f-4728-abb7-74e435624b5b div.sk-estimator:hover {background-color: #d4ebff;}#sk-600f1ef1-7a5f-4728-abb7-74e435624b5b div.sk-parallel-item::after {content: \"\";width: 100%;border-bottom: 1px solid gray;flex-grow: 1;}#sk-600f1ef1-7a5f-4728-abb7-74e435624b5b div.sk-label:hover label.sk-toggleable__label {background-color: #d4ebff;}#sk-600f1ef1-7a5f-4728-abb7-74e435624b5b div.sk-serial::before {content: \"\";position: absolute;border-left: 1px solid gray;box-sizing: border-box;top: 2em;bottom: 0;left: 50%;}#sk-600f1ef1-7a5f-4728-abb7-74e435624b5b div.sk-serial {display: flex;flex-direction: column;align-items: center;background-color: white;padding-right: 0.2em;padding-left: 0.2em;}#sk-600f1ef1-7a5f-4728-abb7-74e435624b5b div.sk-item {z-index: 1;}#sk-600f1ef1-7a5f-4728-abb7-74e435624b5b div.sk-parallel {display: flex;align-items: stretch;justify-content: center;background-color: white;}#sk-600f1ef1-7a5f-4728-abb7-74e435624b5b div.sk-parallel::before {content: \"\";position: absolute;border-left: 1px solid gray;box-sizing: border-box;top: 2em;bottom: 0;left: 50%;}#sk-600f1ef1-7a5f-4728-abb7-74e435624b5b div.sk-parallel-item {display: flex;flex-direction: column;position: relative;background-color: white;}#sk-600f1ef1-7a5f-4728-abb7-74e435624b5b div.sk-parallel-item:first-child::after {align-self: flex-end;width: 50%;}#sk-600f1ef1-7a5f-4728-abb7-74e435624b5b div.sk-parallel-item:last-child::after {align-self: flex-start;width: 50%;}#sk-600f1ef1-7a5f-4728-abb7-74e435624b5b div.sk-parallel-item:only-child::after {width: 0;}#sk-600f1ef1-7a5f-4728-abb7-74e435624b5b div.sk-dashed-wrapped {border: 1px dashed gray;margin: 0 0.4em 0.5em 0.4em;box-sizing: border-box;padding-bottom: 0.4em;background-color: white;position: relative;}#sk-600f1ef1-7a5f-4728-abb7-74e435624b5b div.sk-label label {font-family: monospace;font-weight: bold;background-color: white;display: inline-block;line-height: 1.2em;}#sk-600f1ef1-7a5f-4728-abb7-74e435624b5b div.sk-label-container {position: relative;z-index: 2;text-align: center;}#sk-600f1ef1-7a5f-4728-abb7-74e435624b5b div.sk-container {/* jupyter's `normalize.less` sets `[hidden] { display: none; }` but bootstrap.min.css set `[hidden] { display: none !important; }` so we also need the `!important` here to be able to override the default hidden behavior on the sphinx rendered scikit-learn.org. See: https://github.com/scikit-learn/scikit-learn/issues/21755 */display: inline-block !important;position: relative;}#sk-600f1ef1-7a5f-4728-abb7-74e435624b5b div.sk-text-repr-fallback {display: none;}</style><div id=\"sk-600f1ef1-7a5f-4728-abb7-74e435624b5b\" class=\"sk-top-container\"><div class=\"sk-text-repr-fallback\"><pre>Pipeline(steps=[(&#x27;preprocess&#x27;,\n",
              "                 ColumnTransformer(transformers=[(&#x27;high_cardinality&#x27;,\n",
              "                                                  Pipeline(steps=[(&#x27;ordinal_encoder&#x27;,\n",
              "                                                                   OrdinalEncoder())]),\n",
              "                                                  [&#x27;kodekat&#x27;, &#x27;kodesubkat&#x27;,\n",
              "                                                   &#x27;kategori&#x27;, &#x27;subkategori&#x27;]),\n",
              "                                                 (&#x27;low_cardinality&#x27;,\n",
              "                                                  Pipeline(steps=[(&#x27;oh_encoder&#x27;,\n",
              "                                                                   OneHotEncoder())]),\n",
              "                                                  [&#x27;sumber&#x27;,\n",
              "                                                   &#x27;sentimen_kutipan&#x27;])])),\n",
              "                (&#x27;regressor&#x27;,\n",
              "                 XGBClassifier(alpha=0.37923490995294745, base_sc...\n",
              "                               learning_rate=0.065733165999498,\n",
              "                               max_delta_step=0, max_depth=8,\n",
              "                               min_child_weight=19, missing=nan,\n",
              "                               monotone_constraints=&#x27;()&#x27;, n_estimators=500,\n",
              "                               n_jobs=12, num_parallel_tree=1,\n",
              "                               objective=&#x27;multi:softprob&#x27;, predictor=&#x27;auto&#x27;,\n",
              "                               random_state=420, reg_alpha=0.37923491,\n",
              "                               reg_lambda=0.00810339581, scale_pos_weight=None,\n",
              "                               subsample=1.0, tree_method=&#x27;hist&#x27;,\n",
              "                               use_label_encoder=False, ...))])</pre><b>Please rerun this cell to show the HTML repr or trust the notebook.</b></div><div class=\"sk-container\" hidden><div class=\"sk-item sk-dashed-wrapped\"><div class=\"sk-label-container\"><div class=\"sk-label sk-toggleable\"><input class=\"sk-toggleable__control sk-hidden--visually\" id=\"fdcbd5c3-fe56-4385-a0eb-b79cc4d07af0\" type=\"checkbox\" ><label for=\"fdcbd5c3-fe56-4385-a0eb-b79cc4d07af0\" class=\"sk-toggleable__label sk-toggleable__label-arrow\">Pipeline</label><div class=\"sk-toggleable__content\"><pre>Pipeline(steps=[(&#x27;preprocess&#x27;,\n",
              "                 ColumnTransformer(transformers=[(&#x27;high_cardinality&#x27;,\n",
              "                                                  Pipeline(steps=[(&#x27;ordinal_encoder&#x27;,\n",
              "                                                                   OrdinalEncoder())]),\n",
              "                                                  [&#x27;kodekat&#x27;, &#x27;kodesubkat&#x27;,\n",
              "                                                   &#x27;kategori&#x27;, &#x27;subkategori&#x27;]),\n",
              "                                                 (&#x27;low_cardinality&#x27;,\n",
              "                                                  Pipeline(steps=[(&#x27;oh_encoder&#x27;,\n",
              "                                                                   OneHotEncoder())]),\n",
              "                                                  [&#x27;sumber&#x27;,\n",
              "                                                   &#x27;sentimen_kutipan&#x27;])])),\n",
              "                (&#x27;regressor&#x27;,\n",
              "                 XGBClassifier(alpha=0.37923490995294745, base_sc...\n",
              "                               learning_rate=0.065733165999498,\n",
              "                               max_delta_step=0, max_depth=8,\n",
              "                               min_child_weight=19, missing=nan,\n",
              "                               monotone_constraints=&#x27;()&#x27;, n_estimators=500,\n",
              "                               n_jobs=12, num_parallel_tree=1,\n",
              "                               objective=&#x27;multi:softprob&#x27;, predictor=&#x27;auto&#x27;,\n",
              "                               random_state=420, reg_alpha=0.37923491,\n",
              "                               reg_lambda=0.00810339581, scale_pos_weight=None,\n",
              "                               subsample=1.0, tree_method=&#x27;hist&#x27;,\n",
              "                               use_label_encoder=False, ...))])</pre></div></div></div><div class=\"sk-serial\"><div class=\"sk-item sk-dashed-wrapped\"><div class=\"sk-label-container\"><div class=\"sk-label sk-toggleable\"><input class=\"sk-toggleable__control sk-hidden--visually\" id=\"22c9ea58-e083-4a0e-be4a-8cc667f2fa0f\" type=\"checkbox\" ><label for=\"22c9ea58-e083-4a0e-be4a-8cc667f2fa0f\" class=\"sk-toggleable__label sk-toggleable__label-arrow\">preprocess: ColumnTransformer</label><div class=\"sk-toggleable__content\"><pre>ColumnTransformer(transformers=[(&#x27;high_cardinality&#x27;,\n",
              "                                 Pipeline(steps=[(&#x27;ordinal_encoder&#x27;,\n",
              "                                                  OrdinalEncoder())]),\n",
              "                                 [&#x27;kodekat&#x27;, &#x27;kodesubkat&#x27;, &#x27;kategori&#x27;,\n",
              "                                  &#x27;subkategori&#x27;]),\n",
              "                                (&#x27;low_cardinality&#x27;,\n",
              "                                 Pipeline(steps=[(&#x27;oh_encoder&#x27;,\n",
              "                                                  OneHotEncoder())]),\n",
              "                                 [&#x27;sumber&#x27;, &#x27;sentimen_kutipan&#x27;])])</pre></div></div></div><div class=\"sk-parallel\"><div class=\"sk-parallel-item\"><div class=\"sk-item\"><div class=\"sk-label-container\"><div class=\"sk-label sk-toggleable\"><input class=\"sk-toggleable__control sk-hidden--visually\" id=\"d09b6b75-08dd-4fd9-b0ea-704b383876cd\" type=\"checkbox\" ><label for=\"d09b6b75-08dd-4fd9-b0ea-704b383876cd\" class=\"sk-toggleable__label sk-toggleable__label-arrow\">high_cardinality</label><div class=\"sk-toggleable__content\"><pre>[&#x27;kodekat&#x27;, &#x27;kodesubkat&#x27;, &#x27;kategori&#x27;, &#x27;subkategori&#x27;]</pre></div></div></div><div class=\"sk-serial\"><div class=\"sk-item\"><div class=\"sk-serial\"><div class=\"sk-item\"><div class=\"sk-estimator sk-toggleable\"><input class=\"sk-toggleable__control sk-hidden--visually\" id=\"c4ee3c03-0932-4490-874f-62a0b9993e25\" type=\"checkbox\" ><label for=\"c4ee3c03-0932-4490-874f-62a0b9993e25\" class=\"sk-toggleable__label sk-toggleable__label-arrow\">OrdinalEncoder</label><div class=\"sk-toggleable__content\"><pre>OrdinalEncoder()</pre></div></div></div></div></div></div></div></div><div class=\"sk-parallel-item\"><div class=\"sk-item\"><div class=\"sk-label-container\"><div class=\"sk-label sk-toggleable\"><input class=\"sk-toggleable__control sk-hidden--visually\" id=\"36f0445f-d1b9-4c5d-9382-d7b8646484d3\" type=\"checkbox\" ><label for=\"36f0445f-d1b9-4c5d-9382-d7b8646484d3\" class=\"sk-toggleable__label sk-toggleable__label-arrow\">low_cardinality</label><div class=\"sk-toggleable__content\"><pre>[&#x27;sumber&#x27;, &#x27;sentimen_kutipan&#x27;]</pre></div></div></div><div class=\"sk-serial\"><div class=\"sk-item\"><div class=\"sk-serial\"><div class=\"sk-item\"><div class=\"sk-estimator sk-toggleable\"><input class=\"sk-toggleable__control sk-hidden--visually\" id=\"a58e0e57-655f-4398-b73c-1a6de69a4935\" type=\"checkbox\" ><label for=\"a58e0e57-655f-4398-b73c-1a6de69a4935\" class=\"sk-toggleable__label sk-toggleable__label-arrow\">OneHotEncoder</label><div class=\"sk-toggleable__content\"><pre>OneHotEncoder()</pre></div></div></div></div></div></div></div></div></div></div><div class=\"sk-item\"><div class=\"sk-estimator sk-toggleable\"><input class=\"sk-toggleable__control sk-hidden--visually\" id=\"6f768b27-f2ba-49e2-b4e7-87f35b7a773b\" type=\"checkbox\" ><label for=\"6f768b27-f2ba-49e2-b4e7-87f35b7a773b\" class=\"sk-toggleable__label sk-toggleable__label-arrow\">XGBClassifier</label><div class=\"sk-toggleable__content\"><pre>XGBClassifier(alpha=0.37923490995294745, base_score=0.5, booster=&#x27;gbtree&#x27;,\n",
              "              colsample_bylevel=1, colsample_bynode=1, colsample_bytree=0.5,\n",
              "              enable_categorical=False, gamma=0, gpu_id=-1,\n",
              "              importance_type=None, interaction_constraints=&#x27;&#x27;,\n",
              "              lambda=0.008103395718032142, learning_rate=0.065733165999498,\n",
              "              max_delta_step=0, max_depth=8, min_child_weight=19, missing=nan,\n",
              "              monotone_constraints=&#x27;()&#x27;, n_estimators=500, n_jobs=12,\n",
              "              num_parallel_tree=1, objective=&#x27;multi:softprob&#x27;, predictor=&#x27;auto&#x27;,\n",
              "              random_state=420, reg_alpha=0.37923491, reg_lambda=0.00810339581,\n",
              "              scale_pos_weight=None, subsample=1.0, tree_method=&#x27;hist&#x27;,\n",
              "              use_label_encoder=False, ...)</pre></div></div></div></div></div></div></div>"
            ],
            "text/plain": [
              "Pipeline(steps=[('preprocess',\n",
              "                 ColumnTransformer(transformers=[('high_cardinality',\n",
              "                                                  Pipeline(steps=[('ordinal_encoder',\n",
              "                                                                   OrdinalEncoder())]),\n",
              "                                                  ['kodekat', 'kodesubkat',\n",
              "                                                   'kategori', 'subkategori']),\n",
              "                                                 ('low_cardinality',\n",
              "                                                  Pipeline(steps=[('oh_encoder',\n",
              "                                                                   OneHotEncoder())]),\n",
              "                                                  ['sumber',\n",
              "                                                   'sentimen_kutipan'])])),\n",
              "                ('regressor',\n",
              "                 XGBClassifier(alpha=0.37923490995294745, base_sc...\n",
              "                               learning_rate=0.065733165999498,\n",
              "                               max_delta_step=0, max_depth=8,\n",
              "                               min_child_weight=19, missing=nan,\n",
              "                               monotone_constraints='()', n_estimators=500,\n",
              "                               n_jobs=12, num_parallel_tree=1,\n",
              "                               objective='multi:softprob', predictor='auto',\n",
              "                               random_state=420, reg_alpha=0.37923491,\n",
              "                               reg_lambda=0.00810339581, scale_pos_weight=None,\n",
              "                               subsample=1.0, tree_method='hist',\n",
              "                               use_label_encoder=False, ...))])"
            ]
          },
          "execution_count": 8,
          "metadata": {},
          "output_type": "execute_result"
        }
      ],
      "source": [
        "xgb_pipeline.fit(X_train, y_train)"
      ]
    },
    {
      "cell_type": "code",
      "execution_count": null,
      "id": "2b91c801",
      "metadata": {
        "id": "2b91c801",
        "outputId": "2788cd8a-ca50-4a1c-c2ea-3cddcd23cc6f"
      },
      "outputs": [
        {
          "name": "stdout",
          "output_type": "stream",
          "text": [
            "['katakunci', 'judul_berita', 'konten_berita', 'nama_tokoh', 'jabatan', 'organisasi', 'lokasi', 'alias', 'kutipan']\n"
          ]
        }
      ],
      "source": [
        "print(text_cols)"
      ]
    },
    {
      "cell_type": "code",
      "execution_count": null,
      "id": "eb97315f",
      "metadata": {
        "id": "eb97315f",
        "outputId": "3335f03f-d586-4716-a0d8-754e80412642"
      },
      "outputs": [
        {
          "data": {
            "text/html": [
              "<style>#sk-1d7262b3-7c05-476b-b140-e717df794a75 {color: black;background-color: white;}#sk-1d7262b3-7c05-476b-b140-e717df794a75 pre{padding: 0;}#sk-1d7262b3-7c05-476b-b140-e717df794a75 div.sk-toggleable {background-color: white;}#sk-1d7262b3-7c05-476b-b140-e717df794a75 label.sk-toggleable__label {cursor: pointer;display: block;width: 100%;margin-bottom: 0;padding: 0.3em;box-sizing: border-box;text-align: center;}#sk-1d7262b3-7c05-476b-b140-e717df794a75 label.sk-toggleable__label-arrow:before {content: \"▸\";float: left;margin-right: 0.25em;color: #696969;}#sk-1d7262b3-7c05-476b-b140-e717df794a75 label.sk-toggleable__label-arrow:hover:before {color: black;}#sk-1d7262b3-7c05-476b-b140-e717df794a75 div.sk-estimator:hover label.sk-toggleable__label-arrow:before {color: black;}#sk-1d7262b3-7c05-476b-b140-e717df794a75 div.sk-toggleable__content {max-height: 0;max-width: 0;overflow: hidden;text-align: left;background-color: #f0f8ff;}#sk-1d7262b3-7c05-476b-b140-e717df794a75 div.sk-toggleable__content pre {margin: 0.2em;color: black;border-radius: 0.25em;background-color: #f0f8ff;}#sk-1d7262b3-7c05-476b-b140-e717df794a75 input.sk-toggleable__control:checked~div.sk-toggleable__content {max-height: 200px;max-width: 100%;overflow: auto;}#sk-1d7262b3-7c05-476b-b140-e717df794a75 input.sk-toggleable__control:checked~label.sk-toggleable__label-arrow:before {content: \"▾\";}#sk-1d7262b3-7c05-476b-b140-e717df794a75 div.sk-estimator input.sk-toggleable__control:checked~label.sk-toggleable__label {background-color: #d4ebff;}#sk-1d7262b3-7c05-476b-b140-e717df794a75 div.sk-label input.sk-toggleable__control:checked~label.sk-toggleable__label {background-color: #d4ebff;}#sk-1d7262b3-7c05-476b-b140-e717df794a75 input.sk-hidden--visually {border: 0;clip: rect(1px 1px 1px 1px);clip: rect(1px, 1px, 1px, 1px);height: 1px;margin: -1px;overflow: hidden;padding: 0;position: absolute;width: 1px;}#sk-1d7262b3-7c05-476b-b140-e717df794a75 div.sk-estimator {font-family: monospace;background-color: #f0f8ff;border: 1px dotted black;border-radius: 0.25em;box-sizing: border-box;margin-bottom: 0.5em;}#sk-1d7262b3-7c05-476b-b140-e717df794a75 div.sk-estimator:hover {background-color: #d4ebff;}#sk-1d7262b3-7c05-476b-b140-e717df794a75 div.sk-parallel-item::after {content: \"\";width: 100%;border-bottom: 1px solid gray;flex-grow: 1;}#sk-1d7262b3-7c05-476b-b140-e717df794a75 div.sk-label:hover label.sk-toggleable__label {background-color: #d4ebff;}#sk-1d7262b3-7c05-476b-b140-e717df794a75 div.sk-serial::before {content: \"\";position: absolute;border-left: 1px solid gray;box-sizing: border-box;top: 2em;bottom: 0;left: 50%;}#sk-1d7262b3-7c05-476b-b140-e717df794a75 div.sk-serial {display: flex;flex-direction: column;align-items: center;background-color: white;padding-right: 0.2em;padding-left: 0.2em;}#sk-1d7262b3-7c05-476b-b140-e717df794a75 div.sk-item {z-index: 1;}#sk-1d7262b3-7c05-476b-b140-e717df794a75 div.sk-parallel {display: flex;align-items: stretch;justify-content: center;background-color: white;}#sk-1d7262b3-7c05-476b-b140-e717df794a75 div.sk-parallel::before {content: \"\";position: absolute;border-left: 1px solid gray;box-sizing: border-box;top: 2em;bottom: 0;left: 50%;}#sk-1d7262b3-7c05-476b-b140-e717df794a75 div.sk-parallel-item {display: flex;flex-direction: column;position: relative;background-color: white;}#sk-1d7262b3-7c05-476b-b140-e717df794a75 div.sk-parallel-item:first-child::after {align-self: flex-end;width: 50%;}#sk-1d7262b3-7c05-476b-b140-e717df794a75 div.sk-parallel-item:last-child::after {align-self: flex-start;width: 50%;}#sk-1d7262b3-7c05-476b-b140-e717df794a75 div.sk-parallel-item:only-child::after {width: 0;}#sk-1d7262b3-7c05-476b-b140-e717df794a75 div.sk-dashed-wrapped {border: 1px dashed gray;margin: 0 0.4em 0.5em 0.4em;box-sizing: border-box;padding-bottom: 0.4em;background-color: white;position: relative;}#sk-1d7262b3-7c05-476b-b140-e717df794a75 div.sk-label label {font-family: monospace;font-weight: bold;background-color: white;display: inline-block;line-height: 1.2em;}#sk-1d7262b3-7c05-476b-b140-e717df794a75 div.sk-label-container {position: relative;z-index: 2;text-align: center;}#sk-1d7262b3-7c05-476b-b140-e717df794a75 div.sk-container {/* jupyter's `normalize.less` sets `[hidden] { display: none; }` but bootstrap.min.css set `[hidden] { display: none !important; }` so we also need the `!important` here to be able to override the default hidden behavior on the sphinx rendered scikit-learn.org. See: https://github.com/scikit-learn/scikit-learn/issues/21755 */display: inline-block !important;position: relative;}#sk-1d7262b3-7c05-476b-b140-e717df794a75 div.sk-text-repr-fallback {display: none;}</style><div id=\"sk-1d7262b3-7c05-476b-b140-e717df794a75\" class=\"sk-top-container\"><div class=\"sk-text-repr-fallback\"><pre>Pipeline(steps=[(&#x27;preprocess&#x27;,\n",
              "                 FeatureUnion(transformer_list=[(&#x27;konten_berita&#x27;,\n",
              "                                                 ColumnTransformer(transformers=[(&#x27;tfidf&#x27;,\n",
              "                                                                                  TfidfVectorizer(),\n",
              "                                                                                  &#x27;konten_berita&#x27;)]))])),\n",
              "                (&#x27;regressor&#x27;,\n",
              "                 SGDClassifier(eta0=0.04, learning_rate=&#x27;adaptive&#x27;,\n",
              "                               loss=&#x27;modified_huber&#x27;, max_iter=45000,\n",
              "                               n_iter_no_change=237, penalty=&#x27;l1&#x27;,\n",
              "                               random_state=420, tol=6e-06, verbose=False))])</pre><b>Please rerun this cell to show the HTML repr or trust the notebook.</b></div><div class=\"sk-container\" hidden><div class=\"sk-item sk-dashed-wrapped\"><div class=\"sk-label-container\"><div class=\"sk-label sk-toggleable\"><input class=\"sk-toggleable__control sk-hidden--visually\" id=\"a976c7c3-3aba-4086-939f-23e749a68b07\" type=\"checkbox\" ><label for=\"a976c7c3-3aba-4086-939f-23e749a68b07\" class=\"sk-toggleable__label sk-toggleable__label-arrow\">Pipeline</label><div class=\"sk-toggleable__content\"><pre>Pipeline(steps=[(&#x27;preprocess&#x27;,\n",
              "                 FeatureUnion(transformer_list=[(&#x27;konten_berita&#x27;,\n",
              "                                                 ColumnTransformer(transformers=[(&#x27;tfidf&#x27;,\n",
              "                                                                                  TfidfVectorizer(),\n",
              "                                                                                  &#x27;konten_berita&#x27;)]))])),\n",
              "                (&#x27;regressor&#x27;,\n",
              "                 SGDClassifier(eta0=0.04, learning_rate=&#x27;adaptive&#x27;,\n",
              "                               loss=&#x27;modified_huber&#x27;, max_iter=45000,\n",
              "                               n_iter_no_change=237, penalty=&#x27;l1&#x27;,\n",
              "                               random_state=420, tol=6e-06, verbose=False))])</pre></div></div></div><div class=\"sk-serial\"><div class=\"sk-item sk-dashed-wrapped\"><div class=\"sk-label-container\"><div class=\"sk-label sk-toggleable\"><input class=\"sk-toggleable__control sk-hidden--visually\" id=\"43cac2c1-490e-4004-a4b1-ae436e6d475a\" type=\"checkbox\" ><label for=\"43cac2c1-490e-4004-a4b1-ae436e6d475a\" class=\"sk-toggleable__label sk-toggleable__label-arrow\">preprocess: FeatureUnion</label><div class=\"sk-toggleable__content\"><pre>FeatureUnion(transformer_list=[(&#x27;konten_berita&#x27;,\n",
              "                                ColumnTransformer(transformers=[(&#x27;tfidf&#x27;,\n",
              "                                                                 TfidfVectorizer(),\n",
              "                                                                 &#x27;konten_berita&#x27;)]))])</pre></div></div></div><div class=\"sk-parallel\"><div class=\"sk-parallel-item\"><div class=\"sk-item\"><div class=\"sk-label-container\"><div class=\"sk-label sk-toggleable\"><label>konten_berita</label></div></div><div class=\"sk-serial\"><div class=\"sk-item sk-dashed-wrapped\"><div class=\"sk-parallel\"><div class=\"sk-parallel-item\"><div class=\"sk-item\"><div class=\"sk-label-container\"><div class=\"sk-label sk-toggleable\"><input class=\"sk-toggleable__control sk-hidden--visually\" id=\"164ba733-becc-4fc5-93b0-30591c4d5ebe\" type=\"checkbox\" ><label for=\"164ba733-becc-4fc5-93b0-30591c4d5ebe\" class=\"sk-toggleable__label sk-toggleable__label-arrow\">tfidf</label><div class=\"sk-toggleable__content\"><pre>konten_berita</pre></div></div></div><div class=\"sk-serial\"><div class=\"sk-item\"><div class=\"sk-estimator sk-toggleable\"><input class=\"sk-toggleable__control sk-hidden--visually\" id=\"2b5096a3-5f5c-416c-8217-41c97dc3cdfc\" type=\"checkbox\" ><label for=\"2b5096a3-5f5c-416c-8217-41c97dc3cdfc\" class=\"sk-toggleable__label sk-toggleable__label-arrow\">TfidfVectorizer</label><div class=\"sk-toggleable__content\"><pre>TfidfVectorizer()</pre></div></div></div></div></div></div></div></div></div></div></div></div></div><div class=\"sk-item\"><div class=\"sk-estimator sk-toggleable\"><input class=\"sk-toggleable__control sk-hidden--visually\" id=\"e080fa04-dc87-4059-ba91-b7219c74ba4e\" type=\"checkbox\" ><label for=\"e080fa04-dc87-4059-ba91-b7219c74ba4e\" class=\"sk-toggleable__label sk-toggleable__label-arrow\">SGDClassifier</label><div class=\"sk-toggleable__content\"><pre>SGDClassifier(eta0=0.04, learning_rate=&#x27;adaptive&#x27;, loss=&#x27;modified_huber&#x27;,\n",
              "              max_iter=45000, n_iter_no_change=237, penalty=&#x27;l1&#x27;,\n",
              "              random_state=420, tol=6e-06, verbose=False)</pre></div></div></div></div></div></div></div>"
            ],
            "text/plain": [
              "Pipeline(steps=[('preprocess',\n",
              "                 FeatureUnion(transformer_list=[('konten_berita',\n",
              "                                                 ColumnTransformer(transformers=[('tfidf',\n",
              "                                                                                  TfidfVectorizer(),\n",
              "                                                                                  'konten_berita')]))])),\n",
              "                ('regressor',\n",
              "                 SGDClassifier(eta0=0.04, learning_rate='adaptive',\n",
              "                               loss='modified_huber', max_iter=45000,\n",
              "                               n_iter_no_change=237, penalty='l1',\n",
              "                               random_state=420, tol=6e-06, verbose=False))])"
            ]
          },
          "execution_count": 10,
          "metadata": {},
          "output_type": "execute_result"
        }
      ],
      "source": [
        "from sklearn.feature_extraction.text import TfidfVectorizer\n",
        "from sklearn.linear_model import SGDClassifier\n",
        "from sklearn.preprocessing import FunctionTransformer\n",
        "from sklearn.pipeline import FeatureUnion\n",
        "# from mlxtend.feature_selection import ColumnSelector\n",
        "\n",
        "sgd_clf = SGDClassifier(\n",
        "    loss='modified_huber',\n",
        "    penalty='l1',\n",
        "    alpha=1e-4,\n",
        "    max_iter=45000,\n",
        "    tol=6e-6,\n",
        "    shuffle=True,\n",
        "    verbose=False,\n",
        "    random_state=420,\n",
        "    learning_rate='adaptive',\n",
        "    eta0=0.04,\n",
        "    n_iter_no_change=237,)\n",
        "\n",
        "# tfidf_1 = TfidfVectorizer()\n",
        "# tfidf_2 = TfidfVectorizer()\n",
        "tfidf_3 = TfidfVectorizer()\n",
        "\n",
        "# nlp_1 = ColumnTransformer([\n",
        "#     (\"tfidf\", tfidf_1, \"katakunci\"),\n",
        "# ])\n",
        "\n",
        "# nlp_2 = ColumnTransformer([\n",
        "#     (\"tfidf\", tfidf_2, \"judul_berita\"),\n",
        "# ])\n",
        "\n",
        "nlp_3 = ColumnTransformer([\n",
        "    (\"tfidf\", tfidf_3, \"konten_berita\"),\n",
        "])\n",
        "\n",
        "nlp_preprocessor = FeatureUnion([\n",
        "#     ('katakunci', nlp_1),\n",
        "#     ('judul_berita', nlp_2),\n",
        "    ('konten_berita', nlp_3),\n",
        "])\n",
        "\n",
        "sgd_steps = ([\n",
        "    ('preprocess', nlp_preprocessor),\n",
        "    ('regressor', sgd_clf),\n",
        "])\n",
        "\n",
        "sgd_pipeline = Pipeline(sgd_steps)\n",
        "\n",
        "sgd_pipeline"
      ]
    },
    {
      "cell_type": "code",
      "execution_count": null,
      "id": "7f2e2a1b",
      "metadata": {
        "id": "7f2e2a1b",
        "outputId": "1a49406c-6fbe-4ae4-f3eb-d3d47ded5fa6"
      },
      "outputs": [
        {
          "name": "stderr",
          "output_type": "stream",
          "text": [
            "C:\\ProgramData\\Anaconda3\\envs\\EnvTensorFlow\\lib\\site-packages\\category_encoders\\target_encoder.py:94: FutureWarning: Default parameter min_samples_leaf will change in version 2.6.See https://github.com/scikit-learn-contrib/category_encoders/issues/327\n",
            "  category=FutureWarning)\n",
            "C:\\ProgramData\\Anaconda3\\envs\\EnvTensorFlow\\lib\\site-packages\\category_encoders\\target_encoder.py:99: FutureWarning: Default parameter smoothing will change in version 2.6.See https://github.com/scikit-learn-contrib/category_encoders/issues/327\n",
            "  category=FutureWarning)\n"
          ]
        }
      ],
      "source": [
        "from sklearn.neural_network import MLPClassifier\n",
        "from category_encoders import TargetEncoder\n",
        "\n",
        "target_encoder = TargetEncoder()\n",
        "\n",
        "high_card_mlp_prep = Pipeline(steps=[\n",
        "        (\"target_encoder\", target_encoder)])\n",
        "\n",
        "low_card_mlp_prep = Pipeline(steps=[\n",
        "        (\"oh_encoder\", oh_encoder),])\n",
        "\n",
        "mlp_preprocessor = ColumnTransformer([\n",
        "        (\"high_cardinality\", high_card_mlp_prep, high_card),\n",
        "        (\"low_cardinality\", low_card_mlp_prep, low_card),])\n",
        "\n",
        "mlp = MLPClassifier(\n",
        "    hidden_layer_sizes = (256,2),\n",
        "    activation = 'relu',\n",
        "    solver = 'adam',\n",
        "    alpha = 0.0002,\n",
        "    batch_size = 'auto',\n",
        "    learning_rate = 'adaptive',\n",
        "    learning_rate_init = 0.001,\n",
        "    max_iter = 2000,\n",
        "    shuffle = True,\n",
        "    random_state = 420,\n",
        "    tol = 1e-8,\n",
        "    verbose = False,)\n",
        "\n",
        "mlpr_steps = [('preprocess', mlp_preprocessor),\n",
        "             ('regressor', mlp),]\n",
        "mlp_pipeline = Pipeline(mlpr_steps)"
      ]
    },
    {
      "cell_type": "code",
      "execution_count": null,
      "id": "fcc0203b",
      "metadata": {
        "id": "fcc0203b",
        "outputId": "165880f6-f0f7-4b81-e585-fbafbb71e028"
      },
      "outputs": [
        {
          "data": {
            "text/html": [
              "<style>#sk-9145e8a5-a33f-4c35-8884-237e1bfcd373 {color: black;background-color: white;}#sk-9145e8a5-a33f-4c35-8884-237e1bfcd373 pre{padding: 0;}#sk-9145e8a5-a33f-4c35-8884-237e1bfcd373 div.sk-toggleable {background-color: white;}#sk-9145e8a5-a33f-4c35-8884-237e1bfcd373 label.sk-toggleable__label {cursor: pointer;display: block;width: 100%;margin-bottom: 0;padding: 0.3em;box-sizing: border-box;text-align: center;}#sk-9145e8a5-a33f-4c35-8884-237e1bfcd373 label.sk-toggleable__label-arrow:before {content: \"▸\";float: left;margin-right: 0.25em;color: #696969;}#sk-9145e8a5-a33f-4c35-8884-237e1bfcd373 label.sk-toggleable__label-arrow:hover:before {color: black;}#sk-9145e8a5-a33f-4c35-8884-237e1bfcd373 div.sk-estimator:hover label.sk-toggleable__label-arrow:before {color: black;}#sk-9145e8a5-a33f-4c35-8884-237e1bfcd373 div.sk-toggleable__content {max-height: 0;max-width: 0;overflow: hidden;text-align: left;background-color: #f0f8ff;}#sk-9145e8a5-a33f-4c35-8884-237e1bfcd373 div.sk-toggleable__content pre {margin: 0.2em;color: black;border-radius: 0.25em;background-color: #f0f8ff;}#sk-9145e8a5-a33f-4c35-8884-237e1bfcd373 input.sk-toggleable__control:checked~div.sk-toggleable__content {max-height: 200px;max-width: 100%;overflow: auto;}#sk-9145e8a5-a33f-4c35-8884-237e1bfcd373 input.sk-toggleable__control:checked~label.sk-toggleable__label-arrow:before {content: \"▾\";}#sk-9145e8a5-a33f-4c35-8884-237e1bfcd373 div.sk-estimator input.sk-toggleable__control:checked~label.sk-toggleable__label {background-color: #d4ebff;}#sk-9145e8a5-a33f-4c35-8884-237e1bfcd373 div.sk-label input.sk-toggleable__control:checked~label.sk-toggleable__label {background-color: #d4ebff;}#sk-9145e8a5-a33f-4c35-8884-237e1bfcd373 input.sk-hidden--visually {border: 0;clip: rect(1px 1px 1px 1px);clip: rect(1px, 1px, 1px, 1px);height: 1px;margin: -1px;overflow: hidden;padding: 0;position: absolute;width: 1px;}#sk-9145e8a5-a33f-4c35-8884-237e1bfcd373 div.sk-estimator {font-family: monospace;background-color: #f0f8ff;border: 1px dotted black;border-radius: 0.25em;box-sizing: border-box;margin-bottom: 0.5em;}#sk-9145e8a5-a33f-4c35-8884-237e1bfcd373 div.sk-estimator:hover {background-color: #d4ebff;}#sk-9145e8a5-a33f-4c35-8884-237e1bfcd373 div.sk-parallel-item::after {content: \"\";width: 100%;border-bottom: 1px solid gray;flex-grow: 1;}#sk-9145e8a5-a33f-4c35-8884-237e1bfcd373 div.sk-label:hover label.sk-toggleable__label {background-color: #d4ebff;}#sk-9145e8a5-a33f-4c35-8884-237e1bfcd373 div.sk-serial::before {content: \"\";position: absolute;border-left: 1px solid gray;box-sizing: border-box;top: 2em;bottom: 0;left: 50%;}#sk-9145e8a5-a33f-4c35-8884-237e1bfcd373 div.sk-serial {display: flex;flex-direction: column;align-items: center;background-color: white;padding-right: 0.2em;padding-left: 0.2em;}#sk-9145e8a5-a33f-4c35-8884-237e1bfcd373 div.sk-item {z-index: 1;}#sk-9145e8a5-a33f-4c35-8884-237e1bfcd373 div.sk-parallel {display: flex;align-items: stretch;justify-content: center;background-color: white;}#sk-9145e8a5-a33f-4c35-8884-237e1bfcd373 div.sk-parallel::before {content: \"\";position: absolute;border-left: 1px solid gray;box-sizing: border-box;top: 2em;bottom: 0;left: 50%;}#sk-9145e8a5-a33f-4c35-8884-237e1bfcd373 div.sk-parallel-item {display: flex;flex-direction: column;position: relative;background-color: white;}#sk-9145e8a5-a33f-4c35-8884-237e1bfcd373 div.sk-parallel-item:first-child::after {align-self: flex-end;width: 50%;}#sk-9145e8a5-a33f-4c35-8884-237e1bfcd373 div.sk-parallel-item:last-child::after {align-self: flex-start;width: 50%;}#sk-9145e8a5-a33f-4c35-8884-237e1bfcd373 div.sk-parallel-item:only-child::after {width: 0;}#sk-9145e8a5-a33f-4c35-8884-237e1bfcd373 div.sk-dashed-wrapped {border: 1px dashed gray;margin: 0 0.4em 0.5em 0.4em;box-sizing: border-box;padding-bottom: 0.4em;background-color: white;position: relative;}#sk-9145e8a5-a33f-4c35-8884-237e1bfcd373 div.sk-label label {font-family: monospace;font-weight: bold;background-color: white;display: inline-block;line-height: 1.2em;}#sk-9145e8a5-a33f-4c35-8884-237e1bfcd373 div.sk-label-container {position: relative;z-index: 2;text-align: center;}#sk-9145e8a5-a33f-4c35-8884-237e1bfcd373 div.sk-container {/* jupyter's `normalize.less` sets `[hidden] { display: none; }` but bootstrap.min.css set `[hidden] { display: none !important; }` so we also need the `!important` here to be able to override the default hidden behavior on the sphinx rendered scikit-learn.org. See: https://github.com/scikit-learn/scikit-learn/issues/21755 */display: inline-block !important;position: relative;}#sk-9145e8a5-a33f-4c35-8884-237e1bfcd373 div.sk-text-repr-fallback {display: none;}</style><div id=\"sk-9145e8a5-a33f-4c35-8884-237e1bfcd373\" class=\"sk-top-container\"><div class=\"sk-text-repr-fallback\"><pre>StackingClassifier(cv=3,\n",
              "                   estimators=[(&#x27;xgb&#x27;,\n",
              "                                Pipeline(steps=[(&#x27;preprocess&#x27;,\n",
              "                                                 ColumnTransformer(transformers=[(&#x27;high_cardinality&#x27;,\n",
              "                                                                                  Pipeline(steps=[(&#x27;ordinal_encoder&#x27;,\n",
              "                                                                                                   OrdinalEncoder())]),\n",
              "                                                                                  [&#x27;kodekat&#x27;,\n",
              "                                                                                   &#x27;kodesubkat&#x27;,\n",
              "                                                                                   &#x27;kategori&#x27;,\n",
              "                                                                                   &#x27;subkategori&#x27;]),\n",
              "                                                                                 (&#x27;low_cardinality&#x27;,\n",
              "                                                                                  Pipeline(steps=[(&#x27;oh_encoder&#x27;,\n",
              "                                                                                                   OneHotEncoder())]),\n",
              "                                                                                  [&#x27;sumber&#x27;,\n",
              "                                                                                   &#x27;sentimen_kutipan&#x27;])])),\n",
              "                                                (&#x27;regressor&#x27;,\n",
              "                                                 XGBC...\n",
              "                                                 FeatureUnion(transformer_list=[(&#x27;konten_berita&#x27;,\n",
              "                                                                                 ColumnTransformer(transformers=[(&#x27;tfidf&#x27;,\n",
              "                                                                                                                  TfidfVectorizer(),\n",
              "                                                                                                                  &#x27;konten_berita&#x27;)]))])),\n",
              "                                                (&#x27;regressor&#x27;,\n",
              "                                                 SGDClassifier(eta0=0.04,\n",
              "                                                               learning_rate=&#x27;adaptive&#x27;,\n",
              "                                                               loss=&#x27;modified_huber&#x27;,\n",
              "                                                               max_iter=45000,\n",
              "                                                               n_iter_no_change=237,\n",
              "                                                               penalty=&#x27;l1&#x27;,\n",
              "                                                               random_state=420,\n",
              "                                                               tol=6e-06,\n",
              "                                                               verbose=False))]))],\n",
              "                   final_estimator=LogisticRegression(), n_jobs=-1,\n",
              "                   stack_method=&#x27;predict&#x27;, verbose=1)</pre><b>Please rerun this cell to show the HTML repr or trust the notebook.</b></div><div class=\"sk-container\" hidden><div class=\"sk-item sk-dashed-wrapped\"><div class=\"sk-label-container\"><div class=\"sk-label sk-toggleable\"><input class=\"sk-toggleable__control sk-hidden--visually\" id=\"10be1121-e34b-4a88-b605-d0749a3ee926\" type=\"checkbox\" ><label for=\"10be1121-e34b-4a88-b605-d0749a3ee926\" class=\"sk-toggleable__label sk-toggleable__label-arrow\">StackingClassifier</label><div class=\"sk-toggleable__content\"><pre>StackingClassifier(cv=3,\n",
              "                   estimators=[(&#x27;xgb&#x27;,\n",
              "                                Pipeline(steps=[(&#x27;preprocess&#x27;,\n",
              "                                                 ColumnTransformer(transformers=[(&#x27;high_cardinality&#x27;,\n",
              "                                                                                  Pipeline(steps=[(&#x27;ordinal_encoder&#x27;,\n",
              "                                                                                                   OrdinalEncoder())]),\n",
              "                                                                                  [&#x27;kodekat&#x27;,\n",
              "                                                                                   &#x27;kodesubkat&#x27;,\n",
              "                                                                                   &#x27;kategori&#x27;,\n",
              "                                                                                   &#x27;subkategori&#x27;]),\n",
              "                                                                                 (&#x27;low_cardinality&#x27;,\n",
              "                                                                                  Pipeline(steps=[(&#x27;oh_encoder&#x27;,\n",
              "                                                                                                   OneHotEncoder())]),\n",
              "                                                                                  [&#x27;sumber&#x27;,\n",
              "                                                                                   &#x27;sentimen_kutipan&#x27;])])),\n",
              "                                                (&#x27;regressor&#x27;,\n",
              "                                                 XGBC...\n",
              "                                                 FeatureUnion(transformer_list=[(&#x27;konten_berita&#x27;,\n",
              "                                                                                 ColumnTransformer(transformers=[(&#x27;tfidf&#x27;,\n",
              "                                                                                                                  TfidfVectorizer(),\n",
              "                                                                                                                  &#x27;konten_berita&#x27;)]))])),\n",
              "                                                (&#x27;regressor&#x27;,\n",
              "                                                 SGDClassifier(eta0=0.04,\n",
              "                                                               learning_rate=&#x27;adaptive&#x27;,\n",
              "                                                               loss=&#x27;modified_huber&#x27;,\n",
              "                                                               max_iter=45000,\n",
              "                                                               n_iter_no_change=237,\n",
              "                                                               penalty=&#x27;l1&#x27;,\n",
              "                                                               random_state=420,\n",
              "                                                               tol=6e-06,\n",
              "                                                               verbose=False))]))],\n",
              "                   final_estimator=LogisticRegression(), n_jobs=-1,\n",
              "                   stack_method=&#x27;predict&#x27;, verbose=1)</pre></div></div></div><div class=\"sk-serial\"><div class=\"sk-item\"><div class=\"sk-parallel\"><div class=\"sk-parallel-item\"><div class=\"sk-item\"><div class=\"sk-label-container\"><div class=\"sk-label sk-toggleable\"><label>xgb</label></div></div><div class=\"sk-serial\"><div class=\"sk-item\"><div class=\"sk-serial\"><div class=\"sk-item sk-dashed-wrapped\"><div class=\"sk-label-container\"><div class=\"sk-label sk-toggleable\"><input class=\"sk-toggleable__control sk-hidden--visually\" id=\"97351d21-783b-4edf-90f8-cfcc92d5d548\" type=\"checkbox\" ><label for=\"97351d21-783b-4edf-90f8-cfcc92d5d548\" class=\"sk-toggleable__label sk-toggleable__label-arrow\">preprocess: ColumnTransformer</label><div class=\"sk-toggleable__content\"><pre>ColumnTransformer(transformers=[(&#x27;high_cardinality&#x27;,\n",
              "                                 Pipeline(steps=[(&#x27;ordinal_encoder&#x27;,\n",
              "                                                  OrdinalEncoder())]),\n",
              "                                 [&#x27;kodekat&#x27;, &#x27;kodesubkat&#x27;, &#x27;kategori&#x27;,\n",
              "                                  &#x27;subkategori&#x27;]),\n",
              "                                (&#x27;low_cardinality&#x27;,\n",
              "                                 Pipeline(steps=[(&#x27;oh_encoder&#x27;,\n",
              "                                                  OneHotEncoder())]),\n",
              "                                 [&#x27;sumber&#x27;, &#x27;sentimen_kutipan&#x27;])])</pre></div></div></div><div class=\"sk-parallel\"><div class=\"sk-parallel-item\"><div class=\"sk-item\"><div class=\"sk-label-container\"><div class=\"sk-label sk-toggleable\"><input class=\"sk-toggleable__control sk-hidden--visually\" id=\"ecaa30d3-c42f-42ab-a8ba-792e939b0747\" type=\"checkbox\" ><label for=\"ecaa30d3-c42f-42ab-a8ba-792e939b0747\" class=\"sk-toggleable__label sk-toggleable__label-arrow\">high_cardinality</label><div class=\"sk-toggleable__content\"><pre>[&#x27;kodekat&#x27;, &#x27;kodesubkat&#x27;, &#x27;kategori&#x27;, &#x27;subkategori&#x27;]</pre></div></div></div><div class=\"sk-serial\"><div class=\"sk-item\"><div class=\"sk-serial\"><div class=\"sk-item\"><div class=\"sk-estimator sk-toggleable\"><input class=\"sk-toggleable__control sk-hidden--visually\" id=\"666b2357-e59e-4645-a152-a3952d6dded1\" type=\"checkbox\" ><label for=\"666b2357-e59e-4645-a152-a3952d6dded1\" class=\"sk-toggleable__label sk-toggleable__label-arrow\">OrdinalEncoder</label><div class=\"sk-toggleable__content\"><pre>OrdinalEncoder()</pre></div></div></div></div></div></div></div></div><div class=\"sk-parallel-item\"><div class=\"sk-item\"><div class=\"sk-label-container\"><div class=\"sk-label sk-toggleable\"><input class=\"sk-toggleable__control sk-hidden--visually\" id=\"62cb3295-fcdc-44a2-9033-4a2ca664b223\" type=\"checkbox\" ><label for=\"62cb3295-fcdc-44a2-9033-4a2ca664b223\" class=\"sk-toggleable__label sk-toggleable__label-arrow\">low_cardinality</label><div class=\"sk-toggleable__content\"><pre>[&#x27;sumber&#x27;, &#x27;sentimen_kutipan&#x27;]</pre></div></div></div><div class=\"sk-serial\"><div class=\"sk-item\"><div class=\"sk-serial\"><div class=\"sk-item\"><div class=\"sk-estimator sk-toggleable\"><input class=\"sk-toggleable__control sk-hidden--visually\" id=\"404f9e4d-fecb-4658-8d96-530de4e32102\" type=\"checkbox\" ><label for=\"404f9e4d-fecb-4658-8d96-530de4e32102\" class=\"sk-toggleable__label sk-toggleable__label-arrow\">OneHotEncoder</label><div class=\"sk-toggleable__content\"><pre>OneHotEncoder()</pre></div></div></div></div></div></div></div></div></div></div><div class=\"sk-item\"><div class=\"sk-estimator sk-toggleable\"><input class=\"sk-toggleable__control sk-hidden--visually\" id=\"57c6ff77-d118-4ec9-8da9-357fcac9c4a4\" type=\"checkbox\" ><label for=\"57c6ff77-d118-4ec9-8da9-357fcac9c4a4\" class=\"sk-toggleable__label sk-toggleable__label-arrow\">XGBClassifier</label><div class=\"sk-toggleable__content\"><pre>XGBClassifier(alpha=0.37923490995294745, base_score=0.5, booster=&#x27;gbtree&#x27;,\n",
              "              colsample_bylevel=1, colsample_bynode=1, colsample_bytree=0.5,\n",
              "              enable_categorical=False, gamma=0, gpu_id=-1,\n",
              "              importance_type=None, interaction_constraints=&#x27;&#x27;,\n",
              "              lambda=0.008103395718032142, learning_rate=0.065733165999498,\n",
              "              max_delta_step=0, max_depth=8, min_child_weight=19, missing=nan,\n",
              "              monotone_constraints=&#x27;()&#x27;, n_estimators=500, n_jobs=12,\n",
              "              num_parallel_tree=1, objective=&#x27;multi:softprob&#x27;, predictor=&#x27;auto&#x27;,\n",
              "              random_state=420, reg_alpha=0.37923491, reg_lambda=0.00810339581,\n",
              "              scale_pos_weight=None, subsample=1.0, tree_method=&#x27;hist&#x27;,\n",
              "              use_label_encoder=False, ...)</pre></div></div></div></div></div></div></div></div><div class=\"sk-parallel-item\"><div class=\"sk-item\"><div class=\"sk-label-container\"><div class=\"sk-label sk-toggleable\"><label>mlpr</label></div></div><div class=\"sk-serial\"><div class=\"sk-item\"><div class=\"sk-serial\"><div class=\"sk-item sk-dashed-wrapped\"><div class=\"sk-label-container\"><div class=\"sk-label sk-toggleable\"><input class=\"sk-toggleable__control sk-hidden--visually\" id=\"45ae75bd-b845-4f98-ae7f-46a1de4a6113\" type=\"checkbox\" ><label for=\"45ae75bd-b845-4f98-ae7f-46a1de4a6113\" class=\"sk-toggleable__label sk-toggleable__label-arrow\">preprocess: ColumnTransformer</label><div class=\"sk-toggleable__content\"><pre>ColumnTransformer(transformers=[(&#x27;high_cardinality&#x27;,\n",
              "                                 Pipeline(steps=[(&#x27;target_encoder&#x27;,\n",
              "                                                  TargetEncoder())]),\n",
              "                                 [&#x27;kodekat&#x27;, &#x27;kodesubkat&#x27;, &#x27;kategori&#x27;,\n",
              "                                  &#x27;subkategori&#x27;]),\n",
              "                                (&#x27;low_cardinality&#x27;,\n",
              "                                 Pipeline(steps=[(&#x27;oh_encoder&#x27;,\n",
              "                                                  OneHotEncoder())]),\n",
              "                                 [&#x27;sumber&#x27;, &#x27;sentimen_kutipan&#x27;])])</pre></div></div></div><div class=\"sk-parallel\"><div class=\"sk-parallel-item\"><div class=\"sk-item\"><div class=\"sk-label-container\"><div class=\"sk-label sk-toggleable\"><input class=\"sk-toggleable__control sk-hidden--visually\" id=\"00f05fc6-9656-4549-8c12-8c32e560d79e\" type=\"checkbox\" ><label for=\"00f05fc6-9656-4549-8c12-8c32e560d79e\" class=\"sk-toggleable__label sk-toggleable__label-arrow\">high_cardinality</label><div class=\"sk-toggleable__content\"><pre>[&#x27;kodekat&#x27;, &#x27;kodesubkat&#x27;, &#x27;kategori&#x27;, &#x27;subkategori&#x27;]</pre></div></div></div><div class=\"sk-serial\"><div class=\"sk-item\"><div class=\"sk-serial\"><div class=\"sk-item\"><div class=\"sk-estimator sk-toggleable\"><input class=\"sk-toggleable__control sk-hidden--visually\" id=\"7bd55fb1-3aba-400f-a10d-cfd31090fee3\" type=\"checkbox\" ><label for=\"7bd55fb1-3aba-400f-a10d-cfd31090fee3\" class=\"sk-toggleable__label sk-toggleable__label-arrow\">TargetEncoder</label><div class=\"sk-toggleable__content\"><pre>TargetEncoder()</pre></div></div></div></div></div></div></div></div><div class=\"sk-parallel-item\"><div class=\"sk-item\"><div class=\"sk-label-container\"><div class=\"sk-label sk-toggleable\"><input class=\"sk-toggleable__control sk-hidden--visually\" id=\"b1b96299-6663-4dae-a74e-6b159fef5977\" type=\"checkbox\" ><label for=\"b1b96299-6663-4dae-a74e-6b159fef5977\" class=\"sk-toggleable__label sk-toggleable__label-arrow\">low_cardinality</label><div class=\"sk-toggleable__content\"><pre>[&#x27;sumber&#x27;, &#x27;sentimen_kutipan&#x27;]</pre></div></div></div><div class=\"sk-serial\"><div class=\"sk-item\"><div class=\"sk-serial\"><div class=\"sk-item\"><div class=\"sk-estimator sk-toggleable\"><input class=\"sk-toggleable__control sk-hidden--visually\" id=\"8c197796-3f1a-4951-8df4-47a3511b65d9\" type=\"checkbox\" ><label for=\"8c197796-3f1a-4951-8df4-47a3511b65d9\" class=\"sk-toggleable__label sk-toggleable__label-arrow\">OneHotEncoder</label><div class=\"sk-toggleable__content\"><pre>OneHotEncoder()</pre></div></div></div></div></div></div></div></div></div></div><div class=\"sk-item\"><div class=\"sk-estimator sk-toggleable\"><input class=\"sk-toggleable__control sk-hidden--visually\" id=\"826a1ddf-8263-4c07-8e09-8baf2b525520\" type=\"checkbox\" ><label for=\"826a1ddf-8263-4c07-8e09-8baf2b525520\" class=\"sk-toggleable__label sk-toggleable__label-arrow\">MLPClassifier</label><div class=\"sk-toggleable__content\"><pre>MLPClassifier(alpha=0.0002, hidden_layer_sizes=(256, 2),\n",
              "              learning_rate=&#x27;adaptive&#x27;, max_iter=2000, random_state=420,\n",
              "              tol=1e-08)</pre></div></div></div></div></div></div></div></div><div class=\"sk-parallel-item\"><div class=\"sk-item\"><div class=\"sk-label-container\"><div class=\"sk-label sk-toggleable\"><label>sgd</label></div></div><div class=\"sk-serial\"><div class=\"sk-item\"><div class=\"sk-serial\"><div class=\"sk-item sk-dashed-wrapped\"><div class=\"sk-label-container\"><div class=\"sk-label sk-toggleable\"><input class=\"sk-toggleable__control sk-hidden--visually\" id=\"9e23d213-5b54-4c44-9bae-cfe368a99eba\" type=\"checkbox\" ><label for=\"9e23d213-5b54-4c44-9bae-cfe368a99eba\" class=\"sk-toggleable__label sk-toggleable__label-arrow\">preprocess: FeatureUnion</label><div class=\"sk-toggleable__content\"><pre>FeatureUnion(transformer_list=[(&#x27;konten_berita&#x27;,\n",
              "                                ColumnTransformer(transformers=[(&#x27;tfidf&#x27;,\n",
              "                                                                 TfidfVectorizer(),\n",
              "                                                                 &#x27;konten_berita&#x27;)]))])</pre></div></div></div><div class=\"sk-parallel\"><div class=\"sk-parallel-item\"><div class=\"sk-item\"><div class=\"sk-label-container\"><div class=\"sk-label sk-toggleable\"><label>konten_berita</label></div></div><div class=\"sk-serial\"><div class=\"sk-item sk-dashed-wrapped\"><div class=\"sk-parallel\"><div class=\"sk-parallel-item\"><div class=\"sk-item\"><div class=\"sk-label-container\"><div class=\"sk-label sk-toggleable\"><input class=\"sk-toggleable__control sk-hidden--visually\" id=\"3093ba9e-5711-4656-9220-8cd3ff052262\" type=\"checkbox\" ><label for=\"3093ba9e-5711-4656-9220-8cd3ff052262\" class=\"sk-toggleable__label sk-toggleable__label-arrow\">tfidf</label><div class=\"sk-toggleable__content\"><pre>konten_berita</pre></div></div></div><div class=\"sk-serial\"><div class=\"sk-item\"><div class=\"sk-estimator sk-toggleable\"><input class=\"sk-toggleable__control sk-hidden--visually\" id=\"308f389c-206a-41a5-91fd-71176604ac78\" type=\"checkbox\" ><label for=\"308f389c-206a-41a5-91fd-71176604ac78\" class=\"sk-toggleable__label sk-toggleable__label-arrow\">TfidfVectorizer</label><div class=\"sk-toggleable__content\"><pre>TfidfVectorizer()</pre></div></div></div></div></div></div></div></div></div></div></div></div></div><div class=\"sk-item\"><div class=\"sk-estimator sk-toggleable\"><input class=\"sk-toggleable__control sk-hidden--visually\" id=\"8d930197-ebd4-4ab4-9528-1862e678cd22\" type=\"checkbox\" ><label for=\"8d930197-ebd4-4ab4-9528-1862e678cd22\" class=\"sk-toggleable__label sk-toggleable__label-arrow\">SGDClassifier</label><div class=\"sk-toggleable__content\"><pre>SGDClassifier(eta0=0.04, learning_rate=&#x27;adaptive&#x27;, loss=&#x27;modified_huber&#x27;,\n",
              "              max_iter=45000, n_iter_no_change=237, penalty=&#x27;l1&#x27;,\n",
              "              random_state=420, tol=6e-06, verbose=False)</pre></div></div></div></div></div></div></div></div></div></div><div class=\"sk-item\"><div class=\"sk-parallel\"><div class=\"sk-parallel-item\"><div class=\"sk-item\"><div class=\"sk-label-container\"><div class=\"sk-label sk-toggleable\"><label>final_estimator</label></div></div><div class=\"sk-serial\"><div class=\"sk-item\"><div class=\"sk-estimator sk-toggleable\"><input class=\"sk-toggleable__control sk-hidden--visually\" id=\"67e45f91-1f1c-4226-8c62-7bacc4543bdf\" type=\"checkbox\" ><label for=\"67e45f91-1f1c-4226-8c62-7bacc4543bdf\" class=\"sk-toggleable__label sk-toggleable__label-arrow\">LogisticRegression</label><div class=\"sk-toggleable__content\"><pre>LogisticRegression()</pre></div></div></div></div></div></div></div></div></div></div></div></div>"
            ],
            "text/plain": [
              "StackingClassifier(cv=3,\n",
              "                   estimators=[('xgb',\n",
              "                                Pipeline(steps=[('preprocess',\n",
              "                                                 ColumnTransformer(transformers=[('high_cardinality',\n",
              "                                                                                  Pipeline(steps=[('ordinal_encoder',\n",
              "                                                                                                   OrdinalEncoder())]),\n",
              "                                                                                  ['kodekat',\n",
              "                                                                                   'kodesubkat',\n",
              "                                                                                   'kategori',\n",
              "                                                                                   'subkategori']),\n",
              "                                                                                 ('low_cardinality',\n",
              "                                                                                  Pipeline(steps=[('oh_encoder',\n",
              "                                                                                                   OneHotEncoder())]),\n",
              "                                                                                  ['sumber',\n",
              "                                                                                   'sentimen_kutipan'])])),\n",
              "                                                ('regressor',\n",
              "                                                 XGBC...\n",
              "                                                 FeatureUnion(transformer_list=[('konten_berita',\n",
              "                                                                                 ColumnTransformer(transformers=[('tfidf',\n",
              "                                                                                                                  TfidfVectorizer(),\n",
              "                                                                                                                  'konten_berita')]))])),\n",
              "                                                ('regressor',\n",
              "                                                 SGDClassifier(eta0=0.04,\n",
              "                                                               learning_rate='adaptive',\n",
              "                                                               loss='modified_huber',\n",
              "                                                               max_iter=45000,\n",
              "                                                               n_iter_no_change=237,\n",
              "                                                               penalty='l1',\n",
              "                                                               random_state=420,\n",
              "                                                               tol=6e-06,\n",
              "                                                               verbose=False))]))],\n",
              "                   final_estimator=LogisticRegression(), n_jobs=-1,\n",
              "                   stack_method='predict', verbose=1)"
            ]
          },
          "execution_count": 12,
          "metadata": {},
          "output_type": "execute_result"
        }
      ],
      "source": [
        "from sklearn.ensemble import StackingClassifier\n",
        "from sklearn.linear_model import LogisticRegression\n",
        "\n",
        "l2_model = LogisticRegression()\n",
        "\n",
        "l1_models = [\n",
        "    (\"xgb\", xgb_pipeline),\n",
        "    (\"mlpr\", mlp_pipeline),\n",
        "    ('sgd', sgd_pipeline),\n",
        "    #('lgbm', lgbm_pipeline),\n",
        "]\n",
        "\n",
        "stacking_clf = StackingClassifier(estimators=l1_models,\n",
        "                              final_estimator=l2_model,\n",
        "                              cv=3,\n",
        "                              stack_method='predict',\n",
        "                              n_jobs=-1,\n",
        "                              passthrough=False,\n",
        "                              verbose=1)\n",
        "stacking_clf"
      ]
    },
    {
      "cell_type": "code",
      "execution_count": null,
      "id": "c55c44c2",
      "metadata": {
        "id": "c55c44c2",
        "outputId": "da7246c9-3105-4663-e0ec-2797f2ae6df5"
      },
      "outputs": [
        {
          "name": "stderr",
          "output_type": "stream",
          "text": [
            "C:\\ProgramData\\Anaconda3\\envs\\EnvTensorFlow\\lib\\site-packages\\category_encoders\\target_encoder.py:94: FutureWarning: Default parameter min_samples_leaf will change in version 2.6.See https://github.com/scikit-learn-contrib/category_encoders/issues/327\n",
            "  category=FutureWarning)\n",
            "C:\\ProgramData\\Anaconda3\\envs\\EnvTensorFlow\\lib\\site-packages\\category_encoders\\target_encoder.py:99: FutureWarning: Default parameter smoothing will change in version 2.6.See https://github.com/scikit-learn-contrib/category_encoders/issues/327\n",
            "  category=FutureWarning)\n",
            "C:\\ProgramData\\Anaconda3\\envs\\EnvTensorFlow\\lib\\site-packages\\category_encoders\\target_encoder.py:94: FutureWarning: Default parameter min_samples_leaf will change in version 2.6.See https://github.com/scikit-learn-contrib/category_encoders/issues/327\n",
            "  category=FutureWarning)\n",
            "C:\\ProgramData\\Anaconda3\\envs\\EnvTensorFlow\\lib\\site-packages\\category_encoders\\target_encoder.py:99: FutureWarning: Default parameter smoothing will change in version 2.6.See https://github.com/scikit-learn-contrib/category_encoders/issues/327\n",
            "  category=FutureWarning)\n"
          ]
        },
        {
          "data": {
            "text/html": [
              "<style>#sk-7bc6e143-0f7d-412c-ad19-07b61596fbc7 {color: black;background-color: white;}#sk-7bc6e143-0f7d-412c-ad19-07b61596fbc7 pre{padding: 0;}#sk-7bc6e143-0f7d-412c-ad19-07b61596fbc7 div.sk-toggleable {background-color: white;}#sk-7bc6e143-0f7d-412c-ad19-07b61596fbc7 label.sk-toggleable__label {cursor: pointer;display: block;width: 100%;margin-bottom: 0;padding: 0.3em;box-sizing: border-box;text-align: center;}#sk-7bc6e143-0f7d-412c-ad19-07b61596fbc7 label.sk-toggleable__label-arrow:before {content: \"▸\";float: left;margin-right: 0.25em;color: #696969;}#sk-7bc6e143-0f7d-412c-ad19-07b61596fbc7 label.sk-toggleable__label-arrow:hover:before {color: black;}#sk-7bc6e143-0f7d-412c-ad19-07b61596fbc7 div.sk-estimator:hover label.sk-toggleable__label-arrow:before {color: black;}#sk-7bc6e143-0f7d-412c-ad19-07b61596fbc7 div.sk-toggleable__content {max-height: 0;max-width: 0;overflow: hidden;text-align: left;background-color: #f0f8ff;}#sk-7bc6e143-0f7d-412c-ad19-07b61596fbc7 div.sk-toggleable__content pre {margin: 0.2em;color: black;border-radius: 0.25em;background-color: #f0f8ff;}#sk-7bc6e143-0f7d-412c-ad19-07b61596fbc7 input.sk-toggleable__control:checked~div.sk-toggleable__content {max-height: 200px;max-width: 100%;overflow: auto;}#sk-7bc6e143-0f7d-412c-ad19-07b61596fbc7 input.sk-toggleable__control:checked~label.sk-toggleable__label-arrow:before {content: \"▾\";}#sk-7bc6e143-0f7d-412c-ad19-07b61596fbc7 div.sk-estimator input.sk-toggleable__control:checked~label.sk-toggleable__label {background-color: #d4ebff;}#sk-7bc6e143-0f7d-412c-ad19-07b61596fbc7 div.sk-label input.sk-toggleable__control:checked~label.sk-toggleable__label {background-color: #d4ebff;}#sk-7bc6e143-0f7d-412c-ad19-07b61596fbc7 input.sk-hidden--visually {border: 0;clip: rect(1px 1px 1px 1px);clip: rect(1px, 1px, 1px, 1px);height: 1px;margin: -1px;overflow: hidden;padding: 0;position: absolute;width: 1px;}#sk-7bc6e143-0f7d-412c-ad19-07b61596fbc7 div.sk-estimator {font-family: monospace;background-color: #f0f8ff;border: 1px dotted black;border-radius: 0.25em;box-sizing: border-box;margin-bottom: 0.5em;}#sk-7bc6e143-0f7d-412c-ad19-07b61596fbc7 div.sk-estimator:hover {background-color: #d4ebff;}#sk-7bc6e143-0f7d-412c-ad19-07b61596fbc7 div.sk-parallel-item::after {content: \"\";width: 100%;border-bottom: 1px solid gray;flex-grow: 1;}#sk-7bc6e143-0f7d-412c-ad19-07b61596fbc7 div.sk-label:hover label.sk-toggleable__label {background-color: #d4ebff;}#sk-7bc6e143-0f7d-412c-ad19-07b61596fbc7 div.sk-serial::before {content: \"\";position: absolute;border-left: 1px solid gray;box-sizing: border-box;top: 2em;bottom: 0;left: 50%;}#sk-7bc6e143-0f7d-412c-ad19-07b61596fbc7 div.sk-serial {display: flex;flex-direction: column;align-items: center;background-color: white;padding-right: 0.2em;padding-left: 0.2em;}#sk-7bc6e143-0f7d-412c-ad19-07b61596fbc7 div.sk-item {z-index: 1;}#sk-7bc6e143-0f7d-412c-ad19-07b61596fbc7 div.sk-parallel {display: flex;align-items: stretch;justify-content: center;background-color: white;}#sk-7bc6e143-0f7d-412c-ad19-07b61596fbc7 div.sk-parallel::before {content: \"\";position: absolute;border-left: 1px solid gray;box-sizing: border-box;top: 2em;bottom: 0;left: 50%;}#sk-7bc6e143-0f7d-412c-ad19-07b61596fbc7 div.sk-parallel-item {display: flex;flex-direction: column;position: relative;background-color: white;}#sk-7bc6e143-0f7d-412c-ad19-07b61596fbc7 div.sk-parallel-item:first-child::after {align-self: flex-end;width: 50%;}#sk-7bc6e143-0f7d-412c-ad19-07b61596fbc7 div.sk-parallel-item:last-child::after {align-self: flex-start;width: 50%;}#sk-7bc6e143-0f7d-412c-ad19-07b61596fbc7 div.sk-parallel-item:only-child::after {width: 0;}#sk-7bc6e143-0f7d-412c-ad19-07b61596fbc7 div.sk-dashed-wrapped {border: 1px dashed gray;margin: 0 0.4em 0.5em 0.4em;box-sizing: border-box;padding-bottom: 0.4em;background-color: white;position: relative;}#sk-7bc6e143-0f7d-412c-ad19-07b61596fbc7 div.sk-label label {font-family: monospace;font-weight: bold;background-color: white;display: inline-block;line-height: 1.2em;}#sk-7bc6e143-0f7d-412c-ad19-07b61596fbc7 div.sk-label-container {position: relative;z-index: 2;text-align: center;}#sk-7bc6e143-0f7d-412c-ad19-07b61596fbc7 div.sk-container {/* jupyter's `normalize.less` sets `[hidden] { display: none; }` but bootstrap.min.css set `[hidden] { display: none !important; }` so we also need the `!important` here to be able to override the default hidden behavior on the sphinx rendered scikit-learn.org. See: https://github.com/scikit-learn/scikit-learn/issues/21755 */display: inline-block !important;position: relative;}#sk-7bc6e143-0f7d-412c-ad19-07b61596fbc7 div.sk-text-repr-fallback {display: none;}</style><div id=\"sk-7bc6e143-0f7d-412c-ad19-07b61596fbc7\" class=\"sk-top-container\"><div class=\"sk-text-repr-fallback\"><pre>StackingClassifier(cv=3,\n",
              "                   estimators=[(&#x27;xgb&#x27;,\n",
              "                                Pipeline(steps=[(&#x27;preprocess&#x27;,\n",
              "                                                 ColumnTransformer(transformers=[(&#x27;high_cardinality&#x27;,\n",
              "                                                                                  Pipeline(steps=[(&#x27;ordinal_encoder&#x27;,\n",
              "                                                                                                   OrdinalEncoder())]),\n",
              "                                                                                  [&#x27;kodekat&#x27;,\n",
              "                                                                                   &#x27;kodesubkat&#x27;,\n",
              "                                                                                   &#x27;kategori&#x27;,\n",
              "                                                                                   &#x27;subkategori&#x27;]),\n",
              "                                                                                 (&#x27;low_cardinality&#x27;,\n",
              "                                                                                  Pipeline(steps=[(&#x27;oh_encoder&#x27;,\n",
              "                                                                                                   OneHotEncoder())]),\n",
              "                                                                                  [&#x27;sumber&#x27;,\n",
              "                                                                                   &#x27;sentimen_kutipan&#x27;])])),\n",
              "                                                (&#x27;regressor&#x27;,\n",
              "                                                 XGBC...\n",
              "                                                 FeatureUnion(transformer_list=[(&#x27;konten_berita&#x27;,\n",
              "                                                                                 ColumnTransformer(transformers=[(&#x27;tfidf&#x27;,\n",
              "                                                                                                                  TfidfVectorizer(),\n",
              "                                                                                                                  &#x27;konten_berita&#x27;)]))])),\n",
              "                                                (&#x27;regressor&#x27;,\n",
              "                                                 SGDClassifier(eta0=0.04,\n",
              "                                                               learning_rate=&#x27;adaptive&#x27;,\n",
              "                                                               loss=&#x27;modified_huber&#x27;,\n",
              "                                                               max_iter=45000,\n",
              "                                                               n_iter_no_change=237,\n",
              "                                                               penalty=&#x27;l1&#x27;,\n",
              "                                                               random_state=420,\n",
              "                                                               tol=6e-06,\n",
              "                                                               verbose=False))]))],\n",
              "                   final_estimator=LogisticRegression(), n_jobs=-1,\n",
              "                   stack_method=&#x27;predict&#x27;, verbose=1)</pre><b>Please rerun this cell to show the HTML repr or trust the notebook.</b></div><div class=\"sk-container\" hidden><div class=\"sk-item sk-dashed-wrapped\"><div class=\"sk-label-container\"><div class=\"sk-label sk-toggleable\"><input class=\"sk-toggleable__control sk-hidden--visually\" id=\"cf462f61-6d25-4ad3-8c7a-c8ed8838bb44\" type=\"checkbox\" ><label for=\"cf462f61-6d25-4ad3-8c7a-c8ed8838bb44\" class=\"sk-toggleable__label sk-toggleable__label-arrow\">StackingClassifier</label><div class=\"sk-toggleable__content\"><pre>StackingClassifier(cv=3,\n",
              "                   estimators=[(&#x27;xgb&#x27;,\n",
              "                                Pipeline(steps=[(&#x27;preprocess&#x27;,\n",
              "                                                 ColumnTransformer(transformers=[(&#x27;high_cardinality&#x27;,\n",
              "                                                                                  Pipeline(steps=[(&#x27;ordinal_encoder&#x27;,\n",
              "                                                                                                   OrdinalEncoder())]),\n",
              "                                                                                  [&#x27;kodekat&#x27;,\n",
              "                                                                                   &#x27;kodesubkat&#x27;,\n",
              "                                                                                   &#x27;kategori&#x27;,\n",
              "                                                                                   &#x27;subkategori&#x27;]),\n",
              "                                                                                 (&#x27;low_cardinality&#x27;,\n",
              "                                                                                  Pipeline(steps=[(&#x27;oh_encoder&#x27;,\n",
              "                                                                                                   OneHotEncoder())]),\n",
              "                                                                                  [&#x27;sumber&#x27;,\n",
              "                                                                                   &#x27;sentimen_kutipan&#x27;])])),\n",
              "                                                (&#x27;regressor&#x27;,\n",
              "                                                 XGBC...\n",
              "                                                 FeatureUnion(transformer_list=[(&#x27;konten_berita&#x27;,\n",
              "                                                                                 ColumnTransformer(transformers=[(&#x27;tfidf&#x27;,\n",
              "                                                                                                                  TfidfVectorizer(),\n",
              "                                                                                                                  &#x27;konten_berita&#x27;)]))])),\n",
              "                                                (&#x27;regressor&#x27;,\n",
              "                                                 SGDClassifier(eta0=0.04,\n",
              "                                                               learning_rate=&#x27;adaptive&#x27;,\n",
              "                                                               loss=&#x27;modified_huber&#x27;,\n",
              "                                                               max_iter=45000,\n",
              "                                                               n_iter_no_change=237,\n",
              "                                                               penalty=&#x27;l1&#x27;,\n",
              "                                                               random_state=420,\n",
              "                                                               tol=6e-06,\n",
              "                                                               verbose=False))]))],\n",
              "                   final_estimator=LogisticRegression(), n_jobs=-1,\n",
              "                   stack_method=&#x27;predict&#x27;, verbose=1)</pre></div></div></div><div class=\"sk-serial\"><div class=\"sk-item\"><div class=\"sk-parallel\"><div class=\"sk-parallel-item\"><div class=\"sk-item\"><div class=\"sk-label-container\"><div class=\"sk-label sk-toggleable\"><label>xgb</label></div></div><div class=\"sk-serial\"><div class=\"sk-item\"><div class=\"sk-serial\"><div class=\"sk-item sk-dashed-wrapped\"><div class=\"sk-label-container\"><div class=\"sk-label sk-toggleable\"><input class=\"sk-toggleable__control sk-hidden--visually\" id=\"dc52e461-81e5-4d62-988c-dcb49f229916\" type=\"checkbox\" ><label for=\"dc52e461-81e5-4d62-988c-dcb49f229916\" class=\"sk-toggleable__label sk-toggleable__label-arrow\">preprocess: ColumnTransformer</label><div class=\"sk-toggleable__content\"><pre>ColumnTransformer(transformers=[(&#x27;high_cardinality&#x27;,\n",
              "                                 Pipeline(steps=[(&#x27;ordinal_encoder&#x27;,\n",
              "                                                  OrdinalEncoder())]),\n",
              "                                 [&#x27;kodekat&#x27;, &#x27;kodesubkat&#x27;, &#x27;kategori&#x27;,\n",
              "                                  &#x27;subkategori&#x27;]),\n",
              "                                (&#x27;low_cardinality&#x27;,\n",
              "                                 Pipeline(steps=[(&#x27;oh_encoder&#x27;,\n",
              "                                                  OneHotEncoder())]),\n",
              "                                 [&#x27;sumber&#x27;, &#x27;sentimen_kutipan&#x27;])])</pre></div></div></div><div class=\"sk-parallel\"><div class=\"sk-parallel-item\"><div class=\"sk-item\"><div class=\"sk-label-container\"><div class=\"sk-label sk-toggleable\"><input class=\"sk-toggleable__control sk-hidden--visually\" id=\"05c1a978-9c13-4c6d-9339-d0f65d39ceba\" type=\"checkbox\" ><label for=\"05c1a978-9c13-4c6d-9339-d0f65d39ceba\" class=\"sk-toggleable__label sk-toggleable__label-arrow\">high_cardinality</label><div class=\"sk-toggleable__content\"><pre>[&#x27;kodekat&#x27;, &#x27;kodesubkat&#x27;, &#x27;kategori&#x27;, &#x27;subkategori&#x27;]</pre></div></div></div><div class=\"sk-serial\"><div class=\"sk-item\"><div class=\"sk-serial\"><div class=\"sk-item\"><div class=\"sk-estimator sk-toggleable\"><input class=\"sk-toggleable__control sk-hidden--visually\" id=\"656a6f8a-f7d5-4948-9e3e-3cc4bfc49c6b\" type=\"checkbox\" ><label for=\"656a6f8a-f7d5-4948-9e3e-3cc4bfc49c6b\" class=\"sk-toggleable__label sk-toggleable__label-arrow\">OrdinalEncoder</label><div class=\"sk-toggleable__content\"><pre>OrdinalEncoder()</pre></div></div></div></div></div></div></div></div><div class=\"sk-parallel-item\"><div class=\"sk-item\"><div class=\"sk-label-container\"><div class=\"sk-label sk-toggleable\"><input class=\"sk-toggleable__control sk-hidden--visually\" id=\"5aadbf44-57e3-4233-a40b-43822d4ad153\" type=\"checkbox\" ><label for=\"5aadbf44-57e3-4233-a40b-43822d4ad153\" class=\"sk-toggleable__label sk-toggleable__label-arrow\">low_cardinality</label><div class=\"sk-toggleable__content\"><pre>[&#x27;sumber&#x27;, &#x27;sentimen_kutipan&#x27;]</pre></div></div></div><div class=\"sk-serial\"><div class=\"sk-item\"><div class=\"sk-serial\"><div class=\"sk-item\"><div class=\"sk-estimator sk-toggleable\"><input class=\"sk-toggleable__control sk-hidden--visually\" id=\"6b29ba4a-8380-4028-acb5-a953e8ec2651\" type=\"checkbox\" ><label for=\"6b29ba4a-8380-4028-acb5-a953e8ec2651\" class=\"sk-toggleable__label sk-toggleable__label-arrow\">OneHotEncoder</label><div class=\"sk-toggleable__content\"><pre>OneHotEncoder()</pre></div></div></div></div></div></div></div></div></div></div><div class=\"sk-item\"><div class=\"sk-estimator sk-toggleable\"><input class=\"sk-toggleable__control sk-hidden--visually\" id=\"f74cb669-81f4-4223-9bc8-bcf10c515437\" type=\"checkbox\" ><label for=\"f74cb669-81f4-4223-9bc8-bcf10c515437\" class=\"sk-toggleable__label sk-toggleable__label-arrow\">XGBClassifier</label><div class=\"sk-toggleable__content\"><pre>XGBClassifier(alpha=0.37923490995294745, base_score=0.5, booster=&#x27;gbtree&#x27;,\n",
              "              colsample_bylevel=1, colsample_bynode=1, colsample_bytree=0.5,\n",
              "              enable_categorical=False, gamma=0, gpu_id=-1,\n",
              "              importance_type=None, interaction_constraints=&#x27;&#x27;,\n",
              "              lambda=0.008103395718032142, learning_rate=0.065733165999498,\n",
              "              max_delta_step=0, max_depth=8, min_child_weight=19, missing=nan,\n",
              "              monotone_constraints=&#x27;()&#x27;, n_estimators=500, n_jobs=12,\n",
              "              num_parallel_tree=1, objective=&#x27;multi:softprob&#x27;, predictor=&#x27;auto&#x27;,\n",
              "              random_state=420, reg_alpha=0.37923491, reg_lambda=0.00810339581,\n",
              "              scale_pos_weight=None, subsample=1.0, tree_method=&#x27;hist&#x27;,\n",
              "              use_label_encoder=False, ...)</pre></div></div></div></div></div></div></div></div><div class=\"sk-parallel-item\"><div class=\"sk-item\"><div class=\"sk-label-container\"><div class=\"sk-label sk-toggleable\"><label>mlpr</label></div></div><div class=\"sk-serial\"><div class=\"sk-item\"><div class=\"sk-serial\"><div class=\"sk-item sk-dashed-wrapped\"><div class=\"sk-label-container\"><div class=\"sk-label sk-toggleable\"><input class=\"sk-toggleable__control sk-hidden--visually\" id=\"1617b160-062f-4a00-b067-b18e02644ab9\" type=\"checkbox\" ><label for=\"1617b160-062f-4a00-b067-b18e02644ab9\" class=\"sk-toggleable__label sk-toggleable__label-arrow\">preprocess: ColumnTransformer</label><div class=\"sk-toggleable__content\"><pre>ColumnTransformer(transformers=[(&#x27;high_cardinality&#x27;,\n",
              "                                 Pipeline(steps=[(&#x27;target_encoder&#x27;,\n",
              "                                                  TargetEncoder())]),\n",
              "                                 [&#x27;kodekat&#x27;, &#x27;kodesubkat&#x27;, &#x27;kategori&#x27;,\n",
              "                                  &#x27;subkategori&#x27;]),\n",
              "                                (&#x27;low_cardinality&#x27;,\n",
              "                                 Pipeline(steps=[(&#x27;oh_encoder&#x27;,\n",
              "                                                  OneHotEncoder())]),\n",
              "                                 [&#x27;sumber&#x27;, &#x27;sentimen_kutipan&#x27;])])</pre></div></div></div><div class=\"sk-parallel\"><div class=\"sk-parallel-item\"><div class=\"sk-item\"><div class=\"sk-label-container\"><div class=\"sk-label sk-toggleable\"><input class=\"sk-toggleable__control sk-hidden--visually\" id=\"dbbf95e2-43d3-4766-94ba-0d342e81346c\" type=\"checkbox\" ><label for=\"dbbf95e2-43d3-4766-94ba-0d342e81346c\" class=\"sk-toggleable__label sk-toggleable__label-arrow\">high_cardinality</label><div class=\"sk-toggleable__content\"><pre>[&#x27;kodekat&#x27;, &#x27;kodesubkat&#x27;, &#x27;kategori&#x27;, &#x27;subkategori&#x27;]</pre></div></div></div><div class=\"sk-serial\"><div class=\"sk-item\"><div class=\"sk-serial\"><div class=\"sk-item\"><div class=\"sk-estimator sk-toggleable\"><input class=\"sk-toggleable__control sk-hidden--visually\" id=\"7906cf18-ce1b-441c-aeca-c45975a63cdb\" type=\"checkbox\" ><label for=\"7906cf18-ce1b-441c-aeca-c45975a63cdb\" class=\"sk-toggleable__label sk-toggleable__label-arrow\">TargetEncoder</label><div class=\"sk-toggleable__content\"><pre>TargetEncoder()</pre></div></div></div></div></div></div></div></div><div class=\"sk-parallel-item\"><div class=\"sk-item\"><div class=\"sk-label-container\"><div class=\"sk-label sk-toggleable\"><input class=\"sk-toggleable__control sk-hidden--visually\" id=\"34a5f091-e93b-4438-8543-608c17903a74\" type=\"checkbox\" ><label for=\"34a5f091-e93b-4438-8543-608c17903a74\" class=\"sk-toggleable__label sk-toggleable__label-arrow\">low_cardinality</label><div class=\"sk-toggleable__content\"><pre>[&#x27;sumber&#x27;, &#x27;sentimen_kutipan&#x27;]</pre></div></div></div><div class=\"sk-serial\"><div class=\"sk-item\"><div class=\"sk-serial\"><div class=\"sk-item\"><div class=\"sk-estimator sk-toggleable\"><input class=\"sk-toggleable__control sk-hidden--visually\" id=\"26c96447-52d5-49fc-8517-666ccee91cac\" type=\"checkbox\" ><label for=\"26c96447-52d5-49fc-8517-666ccee91cac\" class=\"sk-toggleable__label sk-toggleable__label-arrow\">OneHotEncoder</label><div class=\"sk-toggleable__content\"><pre>OneHotEncoder()</pre></div></div></div></div></div></div></div></div></div></div><div class=\"sk-item\"><div class=\"sk-estimator sk-toggleable\"><input class=\"sk-toggleable__control sk-hidden--visually\" id=\"dea35851-ee3f-47ab-bc66-603a677e6a1a\" type=\"checkbox\" ><label for=\"dea35851-ee3f-47ab-bc66-603a677e6a1a\" class=\"sk-toggleable__label sk-toggleable__label-arrow\">MLPClassifier</label><div class=\"sk-toggleable__content\"><pre>MLPClassifier(alpha=0.0002, hidden_layer_sizes=(256, 2),\n",
              "              learning_rate=&#x27;adaptive&#x27;, max_iter=2000, random_state=420,\n",
              "              tol=1e-08)</pre></div></div></div></div></div></div></div></div><div class=\"sk-parallel-item\"><div class=\"sk-item\"><div class=\"sk-label-container\"><div class=\"sk-label sk-toggleable\"><label>sgd</label></div></div><div class=\"sk-serial\"><div class=\"sk-item\"><div class=\"sk-serial\"><div class=\"sk-item sk-dashed-wrapped\"><div class=\"sk-label-container\"><div class=\"sk-label sk-toggleable\"><input class=\"sk-toggleable__control sk-hidden--visually\" id=\"5ab60c69-0b61-4057-8462-fec84df55b4b\" type=\"checkbox\" ><label for=\"5ab60c69-0b61-4057-8462-fec84df55b4b\" class=\"sk-toggleable__label sk-toggleable__label-arrow\">preprocess: FeatureUnion</label><div class=\"sk-toggleable__content\"><pre>FeatureUnion(transformer_list=[(&#x27;konten_berita&#x27;,\n",
              "                                ColumnTransformer(transformers=[(&#x27;tfidf&#x27;,\n",
              "                                                                 TfidfVectorizer(),\n",
              "                                                                 &#x27;konten_berita&#x27;)]))])</pre></div></div></div><div class=\"sk-parallel\"><div class=\"sk-parallel-item\"><div class=\"sk-item\"><div class=\"sk-label-container\"><div class=\"sk-label sk-toggleable\"><label>konten_berita</label></div></div><div class=\"sk-serial\"><div class=\"sk-item sk-dashed-wrapped\"><div class=\"sk-parallel\"><div class=\"sk-parallel-item\"><div class=\"sk-item\"><div class=\"sk-label-container\"><div class=\"sk-label sk-toggleable\"><input class=\"sk-toggleable__control sk-hidden--visually\" id=\"a89d13ce-c4e7-41f8-8e20-ded3ebb92f34\" type=\"checkbox\" ><label for=\"a89d13ce-c4e7-41f8-8e20-ded3ebb92f34\" class=\"sk-toggleable__label sk-toggleable__label-arrow\">tfidf</label><div class=\"sk-toggleable__content\"><pre>konten_berita</pre></div></div></div><div class=\"sk-serial\"><div class=\"sk-item\"><div class=\"sk-estimator sk-toggleable\"><input class=\"sk-toggleable__control sk-hidden--visually\" id=\"e0a55985-14fd-4dc7-91ca-23a64223fd48\" type=\"checkbox\" ><label for=\"e0a55985-14fd-4dc7-91ca-23a64223fd48\" class=\"sk-toggleable__label sk-toggleable__label-arrow\">TfidfVectorizer</label><div class=\"sk-toggleable__content\"><pre>TfidfVectorizer()</pre></div></div></div></div></div></div></div></div></div></div></div></div></div><div class=\"sk-item\"><div class=\"sk-estimator sk-toggleable\"><input class=\"sk-toggleable__control sk-hidden--visually\" id=\"311e3a4e-8075-46de-b950-323cfbc0b457\" type=\"checkbox\" ><label for=\"311e3a4e-8075-46de-b950-323cfbc0b457\" class=\"sk-toggleable__label sk-toggleable__label-arrow\">SGDClassifier</label><div class=\"sk-toggleable__content\"><pre>SGDClassifier(eta0=0.04, learning_rate=&#x27;adaptive&#x27;, loss=&#x27;modified_huber&#x27;,\n",
              "              max_iter=45000, n_iter_no_change=237, penalty=&#x27;l1&#x27;,\n",
              "              random_state=420, tol=6e-06, verbose=False)</pre></div></div></div></div></div></div></div></div></div></div><div class=\"sk-item\"><div class=\"sk-parallel\"><div class=\"sk-parallel-item\"><div class=\"sk-item\"><div class=\"sk-label-container\"><div class=\"sk-label sk-toggleable\"><label>final_estimator</label></div></div><div class=\"sk-serial\"><div class=\"sk-item\"><div class=\"sk-estimator sk-toggleable\"><input class=\"sk-toggleable__control sk-hidden--visually\" id=\"36944c0a-d5ae-4196-9c6f-c3d1a79e7270\" type=\"checkbox\" ><label for=\"36944c0a-d5ae-4196-9c6f-c3d1a79e7270\" class=\"sk-toggleable__label sk-toggleable__label-arrow\">LogisticRegression</label><div class=\"sk-toggleable__content\"><pre>LogisticRegression()</pre></div></div></div></div></div></div></div></div></div></div></div></div>"
            ],
            "text/plain": [
              "StackingClassifier(cv=3,\n",
              "                   estimators=[('xgb',\n",
              "                                Pipeline(steps=[('preprocess',\n",
              "                                                 ColumnTransformer(transformers=[('high_cardinality',\n",
              "                                                                                  Pipeline(steps=[('ordinal_encoder',\n",
              "                                                                                                   OrdinalEncoder())]),\n",
              "                                                                                  ['kodekat',\n",
              "                                                                                   'kodesubkat',\n",
              "                                                                                   'kategori',\n",
              "                                                                                   'subkategori']),\n",
              "                                                                                 ('low_cardinality',\n",
              "                                                                                  Pipeline(steps=[('oh_encoder',\n",
              "                                                                                                   OneHotEncoder())]),\n",
              "                                                                                  ['sumber',\n",
              "                                                                                   'sentimen_kutipan'])])),\n",
              "                                                ('regressor',\n",
              "                                                 XGBC...\n",
              "                                                 FeatureUnion(transformer_list=[('konten_berita',\n",
              "                                                                                 ColumnTransformer(transformers=[('tfidf',\n",
              "                                                                                                                  TfidfVectorizer(),\n",
              "                                                                                                                  'konten_berita')]))])),\n",
              "                                                ('regressor',\n",
              "                                                 SGDClassifier(eta0=0.04,\n",
              "                                                               learning_rate='adaptive',\n",
              "                                                               loss='modified_huber',\n",
              "                                                               max_iter=45000,\n",
              "                                                               n_iter_no_change=237,\n",
              "                                                               penalty='l1',\n",
              "                                                               random_state=420,\n",
              "                                                               tol=6e-06,\n",
              "                                                               verbose=False))]))],\n",
              "                   final_estimator=LogisticRegression(), n_jobs=-1,\n",
              "                   stack_method='predict', verbose=1)"
            ]
          },
          "execution_count": 13,
          "metadata": {},
          "output_type": "execute_result"
        }
      ],
      "source": [
        "stacking_clf.fit(X_train, y_train)"
      ]
    },
    {
      "cell_type": "code",
      "execution_count": null,
      "id": "8929906a",
      "metadata": {
        "id": "8929906a",
        "outputId": "be55ccc9-ea5a-41b0-d614-75103894ba24"
      },
      "outputs": [
        {
          "name": "stdout",
          "output_type": "stream",
          "text": [
            "              precision    recall  f1-score   support\n",
            "\n",
            "           0       0.61      0.51      0.56      1648\n",
            "           1       0.56      0.44      0.49      3396\n",
            "           2       0.74      0.87      0.80      5534\n",
            "\n",
            "    accuracy                           0.68     10578\n",
            "   macro avg       0.64      0.61      0.62     10578\n",
            "weighted avg       0.66      0.68      0.66     10578\n",
            "\n"
          ]
        }
      ],
      "source": [
        "from sklearn.metrics import classification_report\n",
        "val_preds = stacking_clf.predict(X_val)\n",
        "\n",
        "print(classification_report(y_val, val_preds))"
      ]
    }
  ],
  "metadata": {
    "kernelspec": {
      "display_name": "Python 3 (ipykernel)",
      "language": "python",
      "name": "python3"
    },
    "language_info": {
      "codemirror_mode": {
        "name": "ipython",
        "version": 3
      },
      "file_extension": ".py",
      "mimetype": "text/x-python",
      "name": "python",
      "nbconvert_exporter": "python",
      "pygments_lexer": "ipython3",
      "version": "3.7.15"
    },
    "colab": {
      "provenance": [],
      "include_colab_link": true
    }
  },
  "nbformat": 4,
  "nbformat_minor": 5
}